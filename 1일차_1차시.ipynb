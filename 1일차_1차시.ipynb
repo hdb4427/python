{
  "nbformat": 4,
  "nbformat_minor": 0,
  "metadata": {
    "colab": {
      "name": "1일차-1차시.ipynb",
      "provenance": [],
      "collapsed_sections": [],
      "authorship_tag": "ABX9TyMWHk7M8Yr7l0ydluS7DRg/",
      "include_colab_link": true
    },
    "kernelspec": {
      "name": "python3",
      "display_name": "Python 3"
    }
  },
  "cells": [
    {
      "cell_type": "markdown",
      "metadata": {
        "id": "view-in-github",
        "colab_type": "text"
      },
      "source": [
        "<a href=\"https://colab.research.google.com/github/hdb4427/python/blob/master/1%EC%9D%BC%EC%B0%A8_1%EC%B0%A8%EC%8B%9C.ipynb\" target=\"_parent\"><img src=\"https://colab.research.google.com/assets/colab-badge.svg\" alt=\"Open In Colab\"/></a>"
      ]
    },
    {
      "cell_type": "code",
      "metadata": {
        "id": "DfC4_BHE2aUF",
        "colab_type": "code",
        "colab": {}
      },
      "source": [
        ""
      ],
      "execution_count": 0,
      "outputs": []
    },
    {
      "cell_type": "markdown",
      "metadata": {
        "id": "8sKs1-JT3fzU",
        "colab_type": "text"
      },
      "source": [
        "1차시 출력문"
      ]
    },
    {
      "cell_type": "code",
      "metadata": {
        "id": "xmH4sUdu3ijU",
        "colab_type": "code",
        "colab": {
          "base_uri": "https://localhost:8080/",
          "height": 35
        },
        "outputId": "a19611ca-7288-47a4-926b-aca6d29889fd"
      },
      "source": [
        "print('인천정보산업고')"
      ],
      "execution_count": 1,
      "outputs": [
        {
          "output_type": "stream",
          "text": [
            "인천정보산업고\n"
          ],
          "name": "stdout"
        }
      ]
    },
    {
      "cell_type": "code",
      "metadata": {
        "id": "L0CzbGp339kL",
        "colab_type": "code",
        "colab": {
          "base_uri": "https://localhost:8080/",
          "height": 35
        },
        "outputId": "44444d42-1b14-4cb8-e45f-14ebc0ae8254"
      },
      "source": [
        "a=1\n",
        "b=2\n",
        "a\n",
        "b\n",
        "print(a,b)"
      ],
      "execution_count": 4,
      "outputs": [
        {
          "output_type": "stream",
          "text": [
            "1 2\n"
          ],
          "name": "stdout"
        }
      ]
    },
    {
      "cell_type": "code",
      "metadata": {
        "id": "xvp9J-DJ4R2w",
        "colab_type": "code",
        "colab": {
          "base_uri": "https://localhost:8080/",
          "height": 35
        },
        "outputId": "cdb717e6-5789-4679-f3d4-cbf9088a9ed6"
      },
      "source": [
        "print('치킨 ' * 3)"
      ],
      "execution_count": 8,
      "outputs": [
        {
          "output_type": "stream",
          "text": [
            "치킨 치킨 치킨 \n"
          ],
          "name": "stdout"
        }
      ]
    },
    {
      "cell_type": "code",
      "metadata": {
        "id": "nHPxaGjv4Yxr",
        "colab_type": "code",
        "colab": {
          "base_uri": "https://localhost:8080/",
          "height": 143
        },
        "outputId": "71b752da-7c6b-4728-9447-833438b53eab"
      },
      "source": [
        "a=3\n",
        "b=2\n",
        "print('a + b= ', a+b)\n",
        "print('a - b= ', a-b)\n",
        "print('a * b= ', a*b)\n",
        "print('a ** b= ', a**b)\n",
        "print('a / b= ', a/b)\n",
        "print('a // b= ', a//b)\n",
        "print('a % b= ', a-b)"
      ],
      "execution_count": 10,
      "outputs": [
        {
          "output_type": "stream",
          "text": [
            "a + b=  5\n",
            "a - b=  1\n",
            "a * b=  6\n",
            "a ** b=  9\n",
            "a / b=  1.5\n",
            "a // b=  1\n",
            "a % b=  1\n"
          ],
          "name": "stdout"
        }
      ]
    }
  ]
}