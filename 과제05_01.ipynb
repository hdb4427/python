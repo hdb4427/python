{
  "nbformat": 4,
  "nbformat_minor": 0,
  "metadata": {
    "colab": {
      "name": "과제05_01.ipynb",
      "provenance": [],
      "authorship_tag": "ABX9TyOhktKfCT4qQIr5J73QE3AN",
      "include_colab_link": true
    },
    "kernelspec": {
      "name": "python3",
      "display_name": "Python 3"
    }
  },
  "cells": [
    {
      "cell_type": "markdown",
      "metadata": {
        "id": "view-in-github",
        "colab_type": "text"
      },
      "source": [
        "<a href=\"https://colab.research.google.com/github/hdb4427/python/blob/master/%EA%B3%BC%EC%A0%9C05_01.ipynb\" target=\"_parent\"><img src=\"https://colab.research.google.com/assets/colab-badge.svg\" alt=\"Open In Colab\"/></a>"
      ]
    },
    {
      "cell_type": "code",
      "metadata": {
        "id": "1DQ2USb_Jbe8",
        "colab_type": "code",
        "colab": {
          "base_uri": "https://localhost:8080/",
          "height": 108
        },
        "outputId": "39b8c894-12b8-49b6-931e-98832156a033"
      },
      "source": [
        "jumsu = [100,75,67,45,80]\n",
        "for i, val in enumerate(jumsu) :\n",
        "  if val >= 60 :\n",
        "    print(\"%d 번 학생은 합격입니다.\"%(i+1))\n",
        "  else : \n",
        "    print(\"%d 번 학생은 불합격입니다.\"%(i+1))"
      ],
      "execution_count": 2,
      "outputs": [
        {
          "output_type": "stream",
          "text": [
            "1 번 학생은 합격입니다.\n",
            "2 번 학생은 합격입니다.\n",
            "3 번 학생은 합격입니다.\n",
            "4 번 학생은 불합격입니다.\n",
            "5 번 학생은 합격입니다.\n"
          ],
          "name": "stdout"
        }
      ]
    },
    {
      "cell_type": "code",
      "metadata": {
        "id": "0Z0uixBZPsWO",
        "colab_type": "code",
        "colab": {
          "base_uri": "https://localhost:8080/",
          "height": 198
        },
        "outputId": "c39607fa-376c-4879-8485-a5286e170a06"
      },
      "source": [
        "import pandas as pd\n",
        "covid = [['인천','1','2','3'],['부산','1','2','3'],\n",
        "['대구','1','2','3'],['서울','1','2','3'],['제주','1','2','3']]\n",
        "df = pd.DataFrame(covid)\n",
        "df.index = [1,2,3,4,5]\n",
        "df.columns = ['지역','병상','확진자','사망자']\n",
        "df"
      ],
      "execution_count": 5,
      "outputs": [
        {
          "output_type": "execute_result",
          "data": {
            "text/html": [
              "<div>\n",
              "<style scoped>\n",
              "    .dataframe tbody tr th:only-of-type {\n",
              "        vertical-align: middle;\n",
              "    }\n",
              "\n",
              "    .dataframe tbody tr th {\n",
              "        vertical-align: top;\n",
              "    }\n",
              "\n",
              "    .dataframe thead th {\n",
              "        text-align: right;\n",
              "    }\n",
              "</style>\n",
              "<table border=\"1\" class=\"dataframe\">\n",
              "  <thead>\n",
              "    <tr style=\"text-align: right;\">\n",
              "      <th></th>\n",
              "      <th>지역</th>\n",
              "      <th>병상</th>\n",
              "      <th>확진자</th>\n",
              "      <th>사망자</th>\n",
              "    </tr>\n",
              "  </thead>\n",
              "  <tbody>\n",
              "    <tr>\n",
              "      <th>1</th>\n",
              "      <td>인천</td>\n",
              "      <td>1</td>\n",
              "      <td>2</td>\n",
              "      <td>3</td>\n",
              "    </tr>\n",
              "    <tr>\n",
              "      <th>2</th>\n",
              "      <td>부산</td>\n",
              "      <td>1</td>\n",
              "      <td>2</td>\n",
              "      <td>3</td>\n",
              "    </tr>\n",
              "    <tr>\n",
              "      <th>3</th>\n",
              "      <td>대구</td>\n",
              "      <td>1</td>\n",
              "      <td>2</td>\n",
              "      <td>3</td>\n",
              "    </tr>\n",
              "    <tr>\n",
              "      <th>4</th>\n",
              "      <td>서울</td>\n",
              "      <td>1</td>\n",
              "      <td>2</td>\n",
              "      <td>3</td>\n",
              "    </tr>\n",
              "    <tr>\n",
              "      <th>5</th>\n",
              "      <td>제주</td>\n",
              "      <td>1</td>\n",
              "      <td>2</td>\n",
              "      <td>3</td>\n",
              "    </tr>\n",
              "  </tbody>\n",
              "</table>\n",
              "</div>"
            ],
            "text/plain": [
              "   지역 병상 확진자 사망자\n",
              "1  인천  1   2   3\n",
              "2  부산  1   2   3\n",
              "3  대구  1   2   3\n",
              "4  서울  1   2   3\n",
              "5  제주  1   2   3"
            ]
          },
          "metadata": {
            "tags": []
          },
          "execution_count": 5
        }
      ]
    }
  ]
}