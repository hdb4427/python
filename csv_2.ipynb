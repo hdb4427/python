{
  "nbformat": 4,
  "nbformat_minor": 0,
  "metadata": {
    "colab": {
      "name": "csv_2.ipynb",
      "provenance": [],
      "mount_file_id": "1oWsj2-4II007Fm9GLH-GlU_QN5E_dwZL",
      "authorship_tag": "ABX9TyMxYIbuN5x5Pe2d1fBTG3xh",
      "include_colab_link": true
    },
    "kernelspec": {
      "name": "python3",
      "display_name": "Python 3"
    }
  },
  "cells": [
    {
      "cell_type": "markdown",
      "metadata": {
        "id": "view-in-github",
        "colab_type": "text"
      },
      "source": [
        "<a href=\"https://colab.research.google.com/github/hdb4427/python/blob/master/csv_2.ipynb\" target=\"_parent\"><img src=\"https://colab.research.google.com/assets/colab-badge.svg\" alt=\"Open In Colab\"/></a>"
      ]
    },
    {
      "cell_type": "code",
      "metadata": {
        "id": "YG25LMawA_qM",
        "colab_type": "code",
        "colab": {}
      },
      "source": [
        "import pandas as pd"
      ],
      "execution_count": 0,
      "outputs": []
    },
    {
      "cell_type": "code",
      "metadata": {
        "id": "PCC_GsCFDL4k",
        "colab_type": "code",
        "colab": {}
      },
      "source": [
        "import glob"
      ],
      "execution_count": 0,
      "outputs": []
    },
    {
      "cell_type": "code",
      "metadata": {
        "id": "4YFACMWkDNnH",
        "colab_type": "code",
        "colab": {
          "base_uri": "https://localhost:8080/",
          "height": 90
        },
        "outputId": "a4172d31-805e-4aa5-dd42-775d65d166c6"
      },
      "source": [
        "path='/content/sample_data/'\n",
        "for file_name in glob.glob(path+'*.csv'):\n",
        "  print(file_name)"
      ],
      "execution_count": 3,
      "outputs": [
        {
          "output_type": "stream",
          "text": [
            "/content/sample_data/mnist_test.csv\n",
            "/content/sample_data/california_housing_train.csv\n",
            "/content/sample_data/mnist_train_small.csv\n",
            "/content/sample_data/california_housing_test.csv\n"
          ],
          "name": "stdout"
        }
      ]
    },
    {
      "cell_type": "code",
      "metadata": {
        "colab_type": "code",
        "outputId": "32482b6a-39a0-475f-cc4f-13bde7077bac",
        "id": "7Lqmqf4pEO3Y",
        "colab": {
          "base_uri": "https://localhost:8080/",
          "height": 199
        }
      },
      "source": [
        "files ='/content/drive/My Drive/Colab Notebooks/score/'\n",
        "files_list=glob.glob(files+'*.csv')\n",
        "files_list"
      ],
      "execution_count": 9,
      "outputs": [
        {
          "output_type": "execute_result",
          "data": {
            "text/plain": [
              "['/content/drive/My Drive/Colab Notebooks/score/D 학교출신 지원자.csv',\n",
              " '/content/drive/My Drive/Colab Notebooks/score/H 학교출신 지원자.csv',\n",
              " '/content/drive/My Drive/Colab Notebooks/score/E 학교출신 지원자.csv',\n",
              " '/content/drive/My Drive/Colab Notebooks/score/I 학교출신 지원자.csv',\n",
              " '/content/drive/My Drive/Colab Notebooks/score/C 학교출신 지원자.csv',\n",
              " '/content/drive/My Drive/Colab Notebooks/score/F 학교출신 지원자.csv',\n",
              " '/content/drive/My Drive/Colab Notebooks/score/G 학교출신 지원자.csv',\n",
              " '/content/drive/My Drive/Colab Notebooks/score/J 학교출신 지원자.csv',\n",
              " '/content/drive/My Drive/Colab Notebooks/score/B 학교출신 지원자.csv',\n",
              " '/content/drive/My Drive/Colab Notebooks/score/A 학교출신 지원자.csv']"
            ]
          },
          "metadata": {
            "tags": []
          },
          "execution_count": 9
        }
      ]
    },
    {
      "cell_type": "code",
      "metadata": {
        "id": "CBdtDu-tE_lt",
        "colab_type": "code",
        "colab": {}
      },
      "source": [
        "a_data='/content/drive/My Drive/Colab Notebooks/score/A 학교출신 지원자.csv'"
      ],
      "execution_count": 0,
      "outputs": []
    },
    {
      "cell_type": "code",
      "metadata": {
        "id": "0xr3x_sWEyW7",
        "colab_type": "code",
        "colab": {
          "base_uri": "https://localhost:8080/",
          "height": 198
        },
        "outputId": "7fc9b1b5-d103-4f4a-f998-f788fdabb498"
      },
      "source": [
        "df=pd.read_csv(a_data, encoding='cp949')\n",
        "df.head()"
      ],
      "execution_count": 120,
      "outputs": [
        {
          "output_type": "execute_result",
          "data": {
            "text/html": [
              "<div>\n",
              "<style scoped>\n",
              "    .dataframe tbody tr th:only-of-type {\n",
              "        vertical-align: middle;\n",
              "    }\n",
              "\n",
              "    .dataframe tbody tr th {\n",
              "        vertical-align: top;\n",
              "    }\n",
              "\n",
              "    .dataframe thead th {\n",
              "        text-align: right;\n",
              "    }\n",
              "</style>\n",
              "<table border=\"1\" class=\"dataframe\">\n",
              "  <thead>\n",
              "    <tr style=\"text-align: right;\">\n",
              "      <th></th>\n",
              "      <th>출신고교</th>\n",
              "      <th>학번</th>\n",
              "      <th>이름</th>\n",
              "      <th>국어</th>\n",
              "      <th>수학</th>\n",
              "      <th>영어</th>\n",
              "      <th>과탐1</th>\n",
              "      <th>과탐2</th>\n",
              "    </tr>\n",
              "  </thead>\n",
              "  <tbody>\n",
              "    <tr>\n",
              "      <th>0</th>\n",
              "      <td>A</td>\n",
              "      <td>30104</td>\n",
              "      <td>조매미</td>\n",
              "      <td>70</td>\n",
              "      <td>66</td>\n",
              "      <td>78</td>\n",
              "      <td>38</td>\n",
              "      <td>42</td>\n",
              "    </tr>\n",
              "    <tr>\n",
              "      <th>1</th>\n",
              "      <td>A</td>\n",
              "      <td>30115</td>\n",
              "      <td>김개미</td>\n",
              "      <td>71</td>\n",
              "      <td>77</td>\n",
              "      <td>89</td>\n",
              "      <td>15</td>\n",
              "      <td>20</td>\n",
              "    </tr>\n",
              "    <tr>\n",
              "      <th>2</th>\n",
              "      <td>A</td>\n",
              "      <td>30117</td>\n",
              "      <td>박모기</td>\n",
              "      <td>76</td>\n",
              "      <td>55</td>\n",
              "      <td>75</td>\n",
              "      <td>35</td>\n",
              "      <td>30</td>\n",
              "    </tr>\n",
              "    <tr>\n",
              "      <th>3</th>\n",
              "      <td>A</td>\n",
              "      <td>30120</td>\n",
              "      <td>최파리</td>\n",
              "      <td>69</td>\n",
              "      <td>66</td>\n",
              "      <td>51</td>\n",
              "      <td>15</td>\n",
              "      <td>36</td>\n",
              "    </tr>\n",
              "    <tr>\n",
              "      <th>4</th>\n",
              "      <td>A</td>\n",
              "      <td>30215</td>\n",
              "      <td>정땅벌</td>\n",
              "      <td>63</td>\n",
              "      <td>20</td>\n",
              "      <td>76</td>\n",
              "      <td>15</td>\n",
              "      <td>19</td>\n",
              "    </tr>\n",
              "  </tbody>\n",
              "</table>\n",
              "</div>"
            ],
            "text/plain": [
              "  출신고교     학번   이름  국어  수학  영어  과탐1  과탐2\n",
              "0    A  30104  조매미  70  66  78   38   42\n",
              "1    A  30115  김개미  71  77  89   15   20\n",
              "2    A  30117  박모기  76  55  75   35   30\n",
              "3    A  30120  최파리  69  66  51   15   36\n",
              "4    A  30215  정땅벌  63  20  76   15   19"
            ]
          },
          "metadata": {
            "tags": []
          },
          "execution_count": 120
        }
      ]
    },
    {
      "cell_type": "markdown",
      "metadata": {
        "id": "ME-wc4lYFd4x",
        "colab_type": "text"
      },
      "source": [
        "# map과 list"
      ]
    },
    {
      "cell_type": "code",
      "metadata": {
        "id": "Z4kai4mVFi-s",
        "colab_type": "code",
        "colab": {
          "base_uri": "https://localhost:8080/",
          "height": 35
        },
        "outputId": "9612efe1-82d7-46c9-ee7d-0bc9e0b04aa9"
      },
      "source": [
        "a=input('숫자입력: ')"
      ],
      "execution_count": 21,
      "outputs": [
        {
          "output_type": "stream",
          "text": [
            "숫자입력: 3242\n"
          ],
          "name": "stdout"
        }
      ]
    },
    {
      "cell_type": "code",
      "metadata": {
        "id": "UchcoYb4Frqt",
        "colab_type": "code",
        "colab": {
          "base_uri": "https://localhost:8080/",
          "height": 35
        },
        "outputId": "622defc8-3f93-4c7c-f9b6-57fbb48dbed1"
      },
      "source": [
        "type(a)"
      ],
      "execution_count": 23,
      "outputs": [
        {
          "output_type": "execute_result",
          "data": {
            "text/plain": [
              "str"
            ]
          },
          "metadata": {
            "tags": []
          },
          "execution_count": 23
        }
      ]
    },
    {
      "cell_type": "code",
      "metadata": {
        "colab_type": "code",
        "outputId": "2f07eefd-5490-451c-d98c-9c58c0922dca",
        "id": "cwTlR8hKGu25",
        "colab": {
          "base_uri": "https://localhost:8080/",
          "height": 54
        }
      },
      "source": [
        "a=input('숫자입력: ')\n",
        "a, type(a)"
      ],
      "execution_count": 25,
      "outputs": [
        {
          "output_type": "stream",
          "text": [
            "숫자입력: 231235\n"
          ],
          "name": "stdout"
        },
        {
          "output_type": "execute_result",
          "data": {
            "text/plain": [
              "('231235', str)"
            ]
          },
          "metadata": {
            "tags": []
          },
          "execution_count": 25
        }
      ]
    },
    {
      "cell_type": "code",
      "metadata": {
        "id": "6QwwUqzeF6pD",
        "colab_type": "code",
        "colab": {
          "base_uri": "https://localhost:8080/",
          "height": 35
        },
        "outputId": "12ae05ea-d576-4f51-f09c-f3a4ada8e5fc"
      },
      "source": [
        "list_a=list(a)\n",
        "list_a"
      ],
      "execution_count": 26,
      "outputs": [
        {
          "output_type": "execute_result",
          "data": {
            "text/plain": [
              "['2', '3', '1', '2', '3', '5']"
            ]
          },
          "metadata": {
            "tags": []
          },
          "execution_count": 26
        }
      ]
    },
    {
      "cell_type": "code",
      "metadata": {
        "id": "gGaZNopUG6ua",
        "colab_type": "code",
        "colab": {
          "base_uri": "https://localhost:8080/",
          "height": 54
        },
        "outputId": "09f2589a-aada-4b1a-eb6f-f221a2e43dd2"
      },
      "source": [
        "a=input('숫자입력: ').split()\n",
        "list_a=list(a)\n",
        "print(list_a, type(list_a))"
      ],
      "execution_count": 28,
      "outputs": [
        {
          "output_type": "stream",
          "text": [
            "숫자입력: 2314\n",
            "['2314'] <class 'list'>\n"
          ],
          "name": "stdout"
        }
      ]
    },
    {
      "cell_type": "code",
      "metadata": {
        "id": "LMgxCI9NHSHY",
        "colab_type": "code",
        "colab": {
          "base_uri": "https://localhost:8080/",
          "height": 35
        },
        "outputId": "ae72f5c2-98fa-48c6-fa1f-77087b5e6659"
      },
      "source": [
        "a=input('숫자입력: ').split()"
      ],
      "execution_count": 32,
      "outputs": [
        {
          "output_type": "stream",
          "text": [
            "숫자입력: 2 3 4\n"
          ],
          "name": "stdout"
        }
      ]
    },
    {
      "cell_type": "code",
      "metadata": {
        "id": "eBshg-uCHgDc",
        "colab_type": "code",
        "colab": {
          "base_uri": "https://localhost:8080/",
          "height": 35
        },
        "outputId": "760fe0c5-ca20-4cdc-a1ae-e1d082cde62f"
      },
      "source": [
        "list_a=list(a)\n",
        "list_a, type(list_a)"
      ],
      "execution_count": 38,
      "outputs": [
        {
          "output_type": "execute_result",
          "data": {
            "text/plain": [
              "(['2', '3', '4'], list)"
            ]
          },
          "metadata": {
            "tags": []
          },
          "execution_count": 38
        }
      ]
    },
    {
      "cell_type": "code",
      "metadata": {
        "id": "EYetaRs8HqNt",
        "colab_type": "code",
        "colab": {}
      },
      "source": [
        "list_num=list(map(int, list_a))"
      ],
      "execution_count": 0,
      "outputs": []
    },
    {
      "cell_type": "code",
      "metadata": {
        "id": "no49lqFXH3br",
        "colab_type": "code",
        "colab": {
          "base_uri": "https://localhost:8080/",
          "height": 35
        },
        "outputId": "72b12bfe-7930-401d-9397-ad7136b1d2c9"
      },
      "source": [
        "list_num"
      ],
      "execution_count": 41,
      "outputs": [
        {
          "output_type": "execute_result",
          "data": {
            "text/plain": [
              "[2, 3, 4]"
            ]
          },
          "metadata": {
            "tags": []
          },
          "execution_count": 41
        }
      ]
    },
    {
      "cell_type": "code",
      "metadata": {
        "id": "SPAl14jfIE5E",
        "colab_type": "code",
        "colab": {
          "base_uri": "https://localhost:8080/",
          "height": 35
        },
        "outputId": "254a3fab-ec02-4bc8-8489-ec395407ef6a"
      },
      "source": [
        "a=[]\n",
        "a"
      ],
      "execution_count": 52,
      "outputs": [
        {
          "output_type": "execute_result",
          "data": {
            "text/plain": [
              "[]"
            ]
          },
          "metadata": {
            "tags": []
          },
          "execution_count": 52
        }
      ]
    },
    {
      "cell_type": "code",
      "metadata": {
        "id": "_rVTmsJQIKY4",
        "colab_type": "code",
        "colab": {
          "base_uri": "https://localhost:8080/",
          "height": 35
        },
        "outputId": "11757f2f-287c-4aa1-d915-1956b56f3c51"
      },
      "source": [
        "a.append(10)\n",
        "a"
      ],
      "execution_count": 51,
      "outputs": [
        {
          "output_type": "execute_result",
          "data": {
            "text/plain": [
              "[5, 5, 5, 5, 5, 5, 5]"
            ]
          },
          "metadata": {
            "tags": []
          },
          "execution_count": 51
        }
      ]
    },
    {
      "cell_type": "code",
      "metadata": {
        "id": "7PP56Hr-IUZr",
        "colab_type": "code",
        "colab": {}
      },
      "source": [
        "stu=[]\n",
        "for files in files_list:\n",
        "  data = pd.read_csv(files, encoding='cp949')\n",
        "  stu.append(data)"
      ],
      "execution_count": 0,
      "outputs": []
    },
    {
      "cell_type": "code",
      "metadata": {
        "id": "3MOawhw1I-lZ",
        "colab_type": "code",
        "colab": {
          "base_uri": "https://localhost:8080/",
          "height": 1000
        },
        "outputId": "79ac371b-5b85-4fa5-a7e3-fb0a33f7af40"
      },
      "source": [
        "stu"
      ],
      "execution_count": 129,
      "outputs": [
        {
          "output_type": "execute_result",
          "data": {
            "text/plain": [
              "[   출신고교     학번   이름  국어  수학  영어  과탐1  과탐2\n",
              " 0     D  30109  김국진  81  88  81   35   35\n",
              " 1     D  30124  김민종  66   7  77   23   34\n",
              " 2     D  30206  김태희  69  30  80   16   32\n",
              " 3     D  30212  문근영  83  92  82   38   40\n",
              " 4     D  30218  박신혜  96  80  89   39   44\n",
              " 5     D  30225  송은이  49  35  20   20   24\n",
              " 6     D  30226  안정환  84  84  81   48   47\n",
              " 7     D  30301  양세형  78  66  81   30   38\n",
              " 8     D  30311   원빈  93  32  54   38   31\n",
              " 9     D  30406  이민호  54  30  52   24   19\n",
              " 10    D  30411  이정재  82  14  81   32   35\n",
              " 11    D  30420  장미희  97  88  86   44   44\n",
              " 12    D  30509  장동건  89  59  82   39   42\n",
              " 13    D  30513  이순재  76  50  74   32   35\n",
              " 14    D  30522  전현무  85  25  98   16   42\n",
              " 15    D  30528  지석진  88  84  83   39   37\n",
              " 16    D  30609  차승원  68  43  71   22   39\n",
              " 17    D  30614  차태현  97  76  86   39   40\n",
              " 18    D  30617  채시라  50  20  37   40   18\n",
              " 19    D  30627  하희라  49  14  69   28   17\n",
              " 20    D  30701  장근석  71  17  85   31   26\n",
              " 21    D  30712   장혁  50  22  71   24   21\n",
              " 22    D  30724  전지현  84  63  64   24   40\n",
              " 23    D  30725  조세호  88  77  68   36   34\n",
              " 24    D  30727  한예슬  70  18  70   32   18\n",
              " 25    D  30804  한채영  86  60  68   31   37\n",
              " 26    D  30810   현빈  80  57  64   38   42\n",
              " 27    D  30816  김용만  87  55  55   50   50\n",
              " 28    D  30820  김성령  74  53  59   26   40\n",
              " 29    D  30903  김신영  80  33  62   15   32\n",
              " 30    D  30906  김준현  32  32  48   18   18,\n",
              "    출신고교     학번   이름  국어  수학   영어  과탐1  과탐2\n",
              " 0     H  30801  강호동  46  12   41   31   15\n",
              " 1     H  30802  김건모  45  15   36   13    5\n",
              " 2     H  30803  김남주  83  13   61   26   34\n",
              " 3     H  30804  김미숙  85  40   77   44   35\n",
              " 4     H  30805  김병만  87  61   79   28   41\n",
              " 5     H  30806  김우빈  87  17  100   40   33\n",
              " 6     H  30807  남궁원  92  88   87   43   45\n",
              " 7     H  30808  신동엽  87  92   89   50   49\n",
              " 8     H  30809  심은하  90  61   70   41   38\n",
              " 9     H  30810  이나영  92  79   76   44   41\n",
              " 10    H  30811  이병헌  85  42   42   48   47\n",
              " 11    H  30812  이서진  91  67   84   33   38\n",
              " 12    H  30813  이영하  73  83   76   44   37\n",
              " 13    H  30814  이종석  79  70   65   46   39\n",
              " 14    H  30815  정준하  63  27   74   28   34\n",
              " 15    H  30816  지창욱  75  17   94   44   38\n",
              " 16    H  30817  최재성  49  22   46   13   12\n",
              " 17    H  30818  황신혜  67  55   57   32   22\n",
              " 18    H  30819  김수현  84  27   48   32   38\n",
              " 19    H  30820  김종민  77  65   60   48   36\n",
              " 20    H  30821  김혜수  41  17   14   37   14\n",
              " 21    H  30822  김희선  70  26   67   30   29\n",
              " 22    H  30823  김희애  91  29   79   48   44\n",
              " 23    H  30824  박근형  83  67   71   30   31\n",
              " 24    H  30825  박해진  71  46   49   29   37\n",
              " 25    H  30826  송중기  68  48   66   42   35\n",
              " 26    H  30827  송혜교  86  51   81   44   44\n",
              " 27    H  30828   수애  87  55   55   50   50\n",
              " 28    H  30829  유지인  74  53   59   26   40\n",
              " 29    H  30731  윤정희  85  83   86   41   41\n",
              " 30    H  30732  이민정  58  32   67   14   12\n",
              " 31    H  30733  이영자  79  62   98   27   15,\n",
              "    출신고교     학번   이름  국어  수학   영어  과탐1  과탐2\n",
              " 0     E  30111  구본길  91  10   95   41   38\n",
              " 1     E  30113  기보배  48  25   82   33   24\n",
              " 2     E  30127  김경욱  72  66   73   32   42\n",
              " 3     E  30214  김기훈  60  56   86   15   34\n",
              " 4     E  30302  김동성  68  55   61   20   19\n",
              " 5     E  30315  김미정  81  39  100   21   39\n",
              " 6     E  30318  김소희  69  48   70   35   38\n",
              " 7     E  30328  김영남  68  63   70   16   31\n",
              " 8     E  30401  김우진  96  73   79   37   44\n",
              " 9     E  30402  김재범  80  27   94   31   26\n",
              " 10    E  30410  김조순  71  69   88   48   35\n",
              " 11    E  30415  모태범  74  76   75   30   34\n",
              " 12    E  30418  문대성  77  52   83   29   13\n",
              " 13    E  30426  박성현  63  20   93   44   26\n",
              " 14    E  30429  박승희  76  42   79   38   31\n",
              " 15    E  30517  박인비  79  36   71   35   39\n",
              " 16    E  30527  박태환  72  16   80   20   20\n",
              " 17    E  30528  사재혁  83  75   83   43   30\n",
              " 18    E  30529  송대남  50  29   68   26   22\n",
              " 19    E  30530  심권호  47  16   83   22   40\n",
              " 20    E  30614  심석희  91  80   88   41   37\n",
              " 21    E  30616  양영자  87  15   90   41   40\n",
              " 22    E  30707  양학순  80  70   85   44   48\n",
              " 23    E  30710  안현수  85  41   87   41   34\n",
              " 24    E  30716  유승민  48  21   80   42   17\n",
              " 25    E  30717  유남규  88  73   86   44   47\n",
              " 26    E  30815  이상화  46  20   43   21   16\n",
              " 27    E  30826  이원희  90  81   80   37   40\n",
              " 28    E  30827  이효정  88  70   88   47   45\n",
              " 29    E  30827  장미란  58  34   69   33   36\n",
              " 30    E  30902  장혜진  91  88   90   31   47\n",
              " 31    E  30913  전기영  90  12   86   44   44,\n",
              "    출신고교     학번   이름  국어  수학  영어  과탐1  과탐2\n",
              " 0     I  30103  이물개  72  45  65   12   28\n",
              " 1     I  30117  최표범  85  56  49   20   21\n",
              " 2     I  30130  김팬더  89  56  71   20   28\n",
              " 3     I  30205  조사자  78  57  75   35   42\n",
              " 4     I  30210  오참새  67  21  47   18   22\n",
              " 5     I  30213  김토끼  65  44  44   25   27\n",
              " 6     I  30228  김돼지  54  34  57   16   15\n",
              " 7     I  30320  최낙타  84  69  75   22   26\n",
              " 8     I  30324  정악어  73  38  49    9   11\n",
              " 9     I  30404  윤늑대  64  62  67   15   12\n",
              " 10    I  30411  오염소  63  37  58   15   13\n",
              " 11    I  30418  박사슴  76  68  58   28   24\n",
              " 12    I  30425  박물범  95  80  94   40   44\n",
              " 13    I  30515  황기린  76  67  70   35   37\n",
              " 14    I  30526  정펭귄  52  61  42   26   25\n",
              " 15    I  30527  최하마  80  47  64   26   21\n",
              " 16    I  30528  김수달  76  70  71   24   23\n",
              " 17    I  30617  정해달  80  88  64   31   22\n",
              " 18    I  30618  박여우  81  88  69   37   31\n",
              " 19    I  30621  박상어  74  51  65   31   27\n",
              " 20    I  30625  김백조  78  64  83   37   28\n",
              " 21    I  30711  문벌새  77  41  71   20   21\n",
              " 22    I  30715  유거미  95  81  78   45   39\n",
              " 23    I  30716  황고래  75  88  90   11   20\n",
              " 24    I  30801  최불곰  92  77  74   20   33\n",
              " 25    I  30812  김거북  80  93  90   49   50\n",
              " 26    I  30817   김곰  81  66  45   19   34\n",
              " 27    I  30819   최용  89  79  73   25   32\n",
              " 28    I  30826  박쉬리  67  65  54   10   13\n",
              " 29    I  30829  원곰치  77  67  82   26   27,\n",
              "    출신고교     학번   이름   국어  수학  영어  과탐1  과탐2\n",
              " 0     C  30110  강동원   69  40  68   34   19\n",
              " 1     C  30115  강문영   59  70  73   23   29\n",
              " 2     C  30116  고소영   75  45  63   13   29\n",
              " 3     C  30123   공유   83  54  79   41   36\n",
              " 4     C  30202   김숙   96  66  87   35   47\n",
              " 5     C  30206  문채원   84  54  62   50   44\n",
              " 6     C  30210  배수지   65  49  54   28   34\n",
              " 7     C  30214  배용준   75  65  51   27   31\n",
              " 8     C  30302  신성일   69  43  73   41   29\n",
              " 9     C  30310  신세경   92  88  73   31   23\n",
              " 10    C  30328  안성기   82  59  57   21   33\n",
              " 11    C  30419  유아인   79  76  86   42   44\n",
              " 12    C  30430  유재석   82  73  61   24   11\n",
              " 13    C  30506  이수근   53  63  63   11   10\n",
              " 14    C  30507  이승기  100  74  82   41   35\n",
              " 15    C  30513  이효리   98  74  95   50   34\n",
              " 16    C  30518  정형돈   92  72  82   31   28\n",
              " 17    C  30522  최민수   75  46  68   11   21\n",
              " 18    C  30527  최지우   87  84  89   40   41\n",
              " 19    C  30605  한석규   69  54  62   15   29\n",
              " 20    C  30612  강석우   84  84  94   44   36\n",
              " 21    C  30620  강수연   63  54  44   20   22\n",
              " 22    C  30623  고두심   83  54  57   17   36\n",
              " 23    C  30710  권상우   70  73  61   11   14\n",
              " 24    C  30721  김구라   94  51  89   35   39\n",
              " 25    C  30728  김성주  100  67  85   38   37\n",
              " 26    C  30805  지상렬   92  96  69   47   38\n",
              " 27    C  30807  박주미   91  57  73   31   28\n",
              " 28    C  30820  소지섭   53  74  38   23   27\n",
              " 29    C  30905  손예진   97  84  86   38   30\n",
              " 30    C  30906  신민아   80  69  68   39   36\n",
              " 31    C  30912  신영균   86  89  50   36   33\n",
              " 32    C  30919  유승호   62  53  59   11   15,\n",
              "    출신고교     학번   이름   국어  수학  영어  과탐1  과탐2\n",
              " 0     F  30102  이미연   84  74  61   32   37\n",
              " 1     F  30118  이상민   84  12  73   38   10\n",
              " 2     F  30124  이영애   82  70  68   34   34\n",
              " 3     F  30130  이정길   64  13  92   14    6\n",
              " 4     F  30203  이휘재   65  71  56   44   44\n",
              " 5     F  30210  조인성   87  42  86   47   41\n",
              " 6     F  30217  차인표   93  16  79   50   37\n",
              " 7     F  30230  최수지   76  26  83   44   37\n",
              " 8     F  30313  한지민  100  48  98   34   35\n",
              " 9     F  30318  강호동   73  27  59   44   28\n",
              " 10    F  30326  김건모   87  88  92   45   43\n",
              " 11    F  30329  김남주   76  72  60   41   47\n",
              " 12    F  30405  김미숙   88  92  80   37   29\n",
              " 13    F  30406  김병만   84  96  79   42   45\n",
              " 14    F  30409  김우빈   58  24  48   45   22\n",
              " 15    F  30412  남궁원   76  17  89   34   16\n",
              " 16    F  30415  신동엽   76  55  76   28   44\n",
              " 17    F  30417  심은하   85  76  83   38   40\n",
              " 18    F  30420  이나영   50  20  70   37   16\n",
              " 19    F  30501  이병헌   72  65  87   35   25\n",
              " 20    F  30527  이서진   86  43  67   33   47\n",
              " 21    F  30618  이영하   88  60  70   46   40\n",
              " 22    F  30723  이종석   70  36  63   16   24\n",
              " 23    F  30812  정준하   82  18  64   31   34\n",
              " 24    F  30818  지창욱   75  36  71   39   27\n",
              " 25    F  30830  최재성   62  31  86   27   33\n",
              " 26    F  30902  황신혜   76  15  75   30   28\n",
              " 27    F  30903  김수현   75  71  92   44   48\n",
              " 28    F  30907  김종민   62  34  62   46   26\n",
              " 29    F  30914  김혜수   81  31  60   38   28\n",
              " 30    F  30920  김희선   94  84  80   44   45\n",
              " 31    F  30924  김희애   56  15  66   36   12,\n",
              "    출신고교     학번   이름  국어  수학  영어  과탐1  과탐2\n",
              " 0     G  30701  정우성  92  92  80   36   47\n",
              " 1     G  30702  주진모  58  22  64   32   26\n",
              " 2     G  30703  최불암  23  21  21   18   20\n",
              " 3     G  30704  최수종  65  38  53   39   32\n",
              " 4     G  30705  하정우  51  62  81   27   34\n",
              " 5     G  30706  김준호  64  37  44   30   30\n",
              " 6     G  30707  김혜자  90  50  69   30   30\n",
              " 7     G  30708  데프콘  71  24  84   32   12\n",
              " 8     G  30709  박나래  80  73  80   37   38\n",
              " 9     G  30710  박수홍  81  88  80   45   48\n",
              " 10    G  30711  서장훈  91  77  84   30   30\n",
              " 11    G  30712  송승헌  70  47  82   32   30\n",
              " 12    G  30713  양세찬  69  24  50   34    8\n",
              " 13    G  30714  유병재  72  89  73   41   38\n",
              " 14    G  30715  이경규  58  41  63   21   18\n",
              " 15    G  30716  이광수  64  58  59   31   27\n",
              " 16    G  30717  이연희  78  22  84   40   48\n",
              " 17    G  30718  전인화  90  73  79   40   38\n",
              " 18    G  30719  정윤희  57  64  59   27   29\n",
              " 19    G  30720  한진희  79  58  83   41   40\n",
              " 20    G  30721  김현주  95  77  68   45   42\n",
              " 21    G  30722  하지원  98  94  91   45   45\n",
              " 22    G  30723   고수  61  19  71   29   18\n",
              " 23    G  30724  고현정  84  39  80   44   39\n",
              " 24    G  30726  김지미  77  11  76   26   16\n",
              " 25    G  30727  김하늘  73  26  55   31   30\n",
              " 26    G  30728  노주현  71  40  94   34   30\n",
              " 27    G  30729   문희  65  35  62   35   25\n",
              " 28    G  30730  박명수  80  59  81   32   45\n",
              " 29    G  30731  송일국  85  83  86   41   41\n",
              " 30    G  30732  유동근  58  32  67   14   12\n",
              " 31    G  30733  이국주  79  62  98   27   15,\n",
              "    출신고교     학번   이름  국어  수학  영어  과탐1  과탐2\n",
              " 0     J  30112  전병관  67  47  84   37   34\n",
              " 1     J  30116  전이경  96  88  78   38   49\n",
              " 2     J  30127  정지현  75  73  67   40   27\n",
              " 3     J  30206  조민선  95  74  71   30   45\n",
              " 4     J  30227  조윤정  88  88  80   44   47\n",
              " 5     J  30309  조해리  84  22  82   31   36\n",
              " 6     J  30323  진종오  70   5  66   45   27\n",
              " 7     J  30410  최민경  88  61  63   36   27\n",
              " 8     J  30415  최민호  82  57  61   22   40\n",
              " 9     J  30420  최현주  81  44  93   48   43\n",
              " 10    J  30425  현정화  57  21  84   24   33\n",
              " 11    J  30522  홍정호  88  50  65   26   39\n",
              " 12    J  30526  황영조  76  53  94   34   26\n",
              " 13    J  30528  김은정  81  67  98   37   42\n",
              " 14    J  30602  김경애  89  43  97   44   32\n",
              " 15    J  30605  김선영  77  54  85   32   32\n",
              " 16    J  30613  김영미  62  17  69   30   23\n",
              " 17    J  30623  김초희  95  76  78   38   39\n",
              " 18    J  30628  손흥민  84  59  79   40   19\n",
              " 19    J  30718  황희찬  85  57  76   50   35\n",
              " 20    J  30720  이승우  98  88  89   37   50\n",
              " 21    J  30726  기성용  75  52  94   27   21\n",
              " 22    J  30806  황의조  79  55  94   31   26\n",
              " 23    J  30812  조현우  68  33  86   33   25\n",
              " 24    J  30814  이강인  73  56  65   28   26\n",
              " 25    J  30818  박주호  69  27  79   21   17\n",
              " 26    J  30824  김영권  88  85  84   38   47\n",
              " 27    J  30907  김승규  79  20  94   35   37\n",
              " 28    J  30912  이재성  74  53  59   26   40\n",
              " 29    J  30920  김신욱  85  83  86   41   41\n",
              " 30    J  30926   이용  58  32  67   14   12\n",
              " 31    J  30927  이청용  79  62  98   27   15,\n",
              "    출신고교     학번   이름   국어  수학  영어  과탐1  과탐2\n",
              " 0     B  30103  곽뱅어   91  50  82   27   37\n",
              " 1     B  30122  성붕어   70  32  64   20   25\n",
              " 2     B  30130  차우럭   87  77  91   34   28\n",
              " 3     B  30204  주잉어   69  44  84   19   24\n",
              " 4     B  30205  우뽈락   84  54  54   41   39\n",
              " 5     B  30214  김멍게   85  75  88   18   20\n",
              " 6     B  30215  신해삼   81  73  67   25   23\n",
              " 7     B  30219  임방어   37  18  53   18   18\n",
              " 8     B  30307  전연어   90  50  50   39   43\n",
              " 9     B  30310  홍아귀   82  78  72   14   20\n",
              " 10    B  30316  유장어   92  72  91   40   41\n",
              " 11    B  30318  진전어   66  75  43   24   23\n",
              " 12    B  30413  나홍어   67  27  50   12   18\n",
              " 13    B  30415  김거위   65  55  45   14   23\n",
              " 14    B  30419  정타조  100  85  85   46   46\n",
              " 15    B  30503   박매   98  62  79   39   41\n",
              " 16    B  30513  최황새   82  72  50   20   30\n",
              " 17    B  30517   이닭   75  85  81   36   21\n",
              " 18    B  30518  강제비   64  59  86   21   19\n",
              " 19    B  30606  조멧새   84  55  86   22   29\n",
              " 20    B  30611  윤원앙   84  70  54   38   30\n",
              " 21    B  30619  장잉꼬   91  69  76   34   37\n",
              " 22    B  30627  임솔개   37   9  10   20   15\n",
              " 23    B  30704  심황태   79  77  91   39   47\n",
              " 24    B  30710  노도미   77  17  47   41   39\n",
              " 25    B  30714  정농어   59  76  61   26   23,\n",
              "    출신고교     학번   이름  국어  수학  영어  과탐1  과탐2\n",
              " 0     A  30104  조매미  70  66  78   38   42\n",
              " 1     A  30115  김개미  71  77  89   15   20\n",
              " 2     A  30117  박모기  76  55  75   35   30\n",
              " 3     A  30120  최파리  69  66  51   15   36\n",
              " 4     A  30215  정땅벌  63  20  76   15   19\n",
              " 5     A  30228  오멸치  67  51  48   21   12\n",
              " 6     A  30229  김꿀벌  93  77  78   33   44\n",
              " 7     A  30305  윤여치  88  66  70   41   21\n",
              " 8     A  30315  장곱등  86  66  84   35   38\n",
              " 9     A  30317  임나방  73  77  75   32   25\n",
              " 10    A  30319  한말벌  84  65  75   42   26\n",
              " 11    A  30401  강나비  68  80  72   10   12\n",
              " 12    A  30404  서삼치  88  65  86   41   37\n",
              " 13    A  30421  신참치  98  92  85   44   35\n",
              " 14    A  30428  권갈치  91  74  83   38   42\n",
              " 15    A  30503  황넙치  73  70  76   35   33\n",
              " 16    A  30512  안준치  84  77  66   19   23\n",
              " 17    A  30518  송날치  90  56  61   20   33\n",
              " 18    A  30529  전꽁치  79  46  68   34   34\n",
              " 19    A  30622  유쥐치  95  85  91   38   32\n",
              " 20    A  30707  고조기  57  69  72    8   18\n",
              " 21    A  30709  문메기  72  77  91   18   33\n",
              " 22    A  30803  손뿔돔  71  80  48   34   29\n",
              " 23    A  30815  배옥돔  49  70  31   12   21\n",
              " 24    A  30822  조황돔  84  88  76   37   37\n",
              " 25    A  30824  백돌돔  83  88  80   30   30\n",
              " 26    A  30827  허대구  95  70  67   35   29\n",
              " 27    A  30901  유명태  87  69  96   37   40\n",
              " 28    A  30928  남동태  91  50  80   29   26]"
            ]
          },
          "metadata": {
            "tags": []
          },
          "execution_count": 129
        }
      ]
    },
    {
      "cell_type": "markdown",
      "metadata": {
        "id": "pbE4ZwWKJqZR",
        "colab_type": "text"
      },
      "source": [
        "\n",
        "\n",
        "**concat**\n"
      ]
    },
    {
      "cell_type": "code",
      "metadata": {
        "id": "QqIb75gYJsRY",
        "colab_type": "code",
        "colab": {}
      },
      "source": [
        "a=[['a','b','c'], [10,20,30]]\n",
        "b=[['d','e','f','add'], [-3,5,7,100]]"
      ],
      "execution_count": 0,
      "outputs": []
    },
    {
      "cell_type": "code",
      "metadata": {
        "id": "iK7qyjxNN-sU",
        "colab_type": "code",
        "colab": {
          "base_uri": "https://localhost:8080/",
          "height": 54
        },
        "outputId": "70367aad-b99d-4869-81cc-fbbd8b71ff3e"
      },
      "source": [
        "print(a)\n",
        "print(b)"
      ],
      "execution_count": 131,
      "outputs": [
        {
          "output_type": "stream",
          "text": [
            "[['a', 'b', 'c'], [10, 20, 30]]\n",
            "[['d', 'e', 'f', 'add'], [-3, 5, 7, 100]]\n"
          ],
          "name": "stdout"
        }
      ]
    },
    {
      "cell_type": "code",
      "metadata": {
        "id": "mhvpd-EyOBWf",
        "colab_type": "code",
        "colab": {
          "base_uri": "https://localhost:8080/",
          "height": 108
        },
        "outputId": "8f612eec-9dbb-426b-e2b0-45a56a67de78"
      },
      "source": [
        "af=pd.DataFrame(a)\n",
        "af"
      ],
      "execution_count": 132,
      "outputs": [
        {
          "output_type": "execute_result",
          "data": {
            "text/html": [
              "<div>\n",
              "<style scoped>\n",
              "    .dataframe tbody tr th:only-of-type {\n",
              "        vertical-align: middle;\n",
              "    }\n",
              "\n",
              "    .dataframe tbody tr th {\n",
              "        vertical-align: top;\n",
              "    }\n",
              "\n",
              "    .dataframe thead th {\n",
              "        text-align: right;\n",
              "    }\n",
              "</style>\n",
              "<table border=\"1\" class=\"dataframe\">\n",
              "  <thead>\n",
              "    <tr style=\"text-align: right;\">\n",
              "      <th></th>\n",
              "      <th>0</th>\n",
              "      <th>1</th>\n",
              "      <th>2</th>\n",
              "    </tr>\n",
              "  </thead>\n",
              "  <tbody>\n",
              "    <tr>\n",
              "      <th>0</th>\n",
              "      <td>a</td>\n",
              "      <td>b</td>\n",
              "      <td>c</td>\n",
              "    </tr>\n",
              "    <tr>\n",
              "      <th>1</th>\n",
              "      <td>10</td>\n",
              "      <td>20</td>\n",
              "      <td>30</td>\n",
              "    </tr>\n",
              "  </tbody>\n",
              "</table>\n",
              "</div>"
            ],
            "text/plain": [
              "    0   1   2\n",
              "0   a   b   c\n",
              "1  10  20  30"
            ]
          },
          "metadata": {
            "tags": []
          },
          "execution_count": 132
        }
      ]
    },
    {
      "cell_type": "code",
      "metadata": {
        "id": "Bf8wDElcOKn_",
        "colab_type": "code",
        "colab": {
          "base_uri": "https://localhost:8080/",
          "height": 108
        },
        "outputId": "a54bcb69-cc3b-4543-a602-8b9c3cf8a965"
      },
      "source": [
        "bf=pd.DataFrame(b)\n",
        "bf"
      ],
      "execution_count": 133,
      "outputs": [
        {
          "output_type": "execute_result",
          "data": {
            "text/html": [
              "<div>\n",
              "<style scoped>\n",
              "    .dataframe tbody tr th:only-of-type {\n",
              "        vertical-align: middle;\n",
              "    }\n",
              "\n",
              "    .dataframe tbody tr th {\n",
              "        vertical-align: top;\n",
              "    }\n",
              "\n",
              "    .dataframe thead th {\n",
              "        text-align: right;\n",
              "    }\n",
              "</style>\n",
              "<table border=\"1\" class=\"dataframe\">\n",
              "  <thead>\n",
              "    <tr style=\"text-align: right;\">\n",
              "      <th></th>\n",
              "      <th>0</th>\n",
              "      <th>1</th>\n",
              "      <th>2</th>\n",
              "      <th>3</th>\n",
              "    </tr>\n",
              "  </thead>\n",
              "  <tbody>\n",
              "    <tr>\n",
              "      <th>0</th>\n",
              "      <td>d</td>\n",
              "      <td>e</td>\n",
              "      <td>f</td>\n",
              "      <td>add</td>\n",
              "    </tr>\n",
              "    <tr>\n",
              "      <th>1</th>\n",
              "      <td>-3</td>\n",
              "      <td>5</td>\n",
              "      <td>7</td>\n",
              "      <td>100</td>\n",
              "    </tr>\n",
              "  </tbody>\n",
              "</table>\n",
              "</div>"
            ],
            "text/plain": [
              "    0  1  2    3\n",
              "0   d  e  f  add\n",
              "1  -3  5  7  100"
            ]
          },
          "metadata": {
            "tags": []
          },
          "execution_count": 133
        }
      ]
    },
    {
      "cell_type": "code",
      "metadata": {
        "id": "vln8GHyMOOSW",
        "colab_type": "code",
        "colab": {}
      },
      "source": [
        "af.columns=['A','B','C']\n",
        "bf.columns=['A','B','C','D']"
      ],
      "execution_count": 0,
      "outputs": []
    },
    {
      "cell_type": "code",
      "metadata": {
        "id": "fTwee-ALO8qM",
        "colab_type": "code",
        "colab": {
          "base_uri": "https://localhost:8080/",
          "height": 108
        },
        "outputId": "47acf946-0535-448c-95a3-916ed2349931"
      },
      "source": [
        "af"
      ],
      "execution_count": 135,
      "outputs": [
        {
          "output_type": "execute_result",
          "data": {
            "text/html": [
              "<div>\n",
              "<style scoped>\n",
              "    .dataframe tbody tr th:only-of-type {\n",
              "        vertical-align: middle;\n",
              "    }\n",
              "\n",
              "    .dataframe tbody tr th {\n",
              "        vertical-align: top;\n",
              "    }\n",
              "\n",
              "    .dataframe thead th {\n",
              "        text-align: right;\n",
              "    }\n",
              "</style>\n",
              "<table border=\"1\" class=\"dataframe\">\n",
              "  <thead>\n",
              "    <tr style=\"text-align: right;\">\n",
              "      <th></th>\n",
              "      <th>A</th>\n",
              "      <th>B</th>\n",
              "      <th>C</th>\n",
              "    </tr>\n",
              "  </thead>\n",
              "  <tbody>\n",
              "    <tr>\n",
              "      <th>0</th>\n",
              "      <td>a</td>\n",
              "      <td>b</td>\n",
              "      <td>c</td>\n",
              "    </tr>\n",
              "    <tr>\n",
              "      <th>1</th>\n",
              "      <td>10</td>\n",
              "      <td>20</td>\n",
              "      <td>30</td>\n",
              "    </tr>\n",
              "  </tbody>\n",
              "</table>\n",
              "</div>"
            ],
            "text/plain": [
              "    A   B   C\n",
              "0   a   b   c\n",
              "1  10  20  30"
            ]
          },
          "metadata": {
            "tags": []
          },
          "execution_count": 135
        }
      ]
    },
    {
      "cell_type": "code",
      "metadata": {
        "id": "efadudOkO-fS",
        "colab_type": "code",
        "colab": {
          "base_uri": "https://localhost:8080/",
          "height": 108
        },
        "outputId": "16358cc7-2640-4a0b-fc4d-764c1b9992cd"
      },
      "source": [
        "bf"
      ],
      "execution_count": 136,
      "outputs": [
        {
          "output_type": "execute_result",
          "data": {
            "text/html": [
              "<div>\n",
              "<style scoped>\n",
              "    .dataframe tbody tr th:only-of-type {\n",
              "        vertical-align: middle;\n",
              "    }\n",
              "\n",
              "    .dataframe tbody tr th {\n",
              "        vertical-align: top;\n",
              "    }\n",
              "\n",
              "    .dataframe thead th {\n",
              "        text-align: right;\n",
              "    }\n",
              "</style>\n",
              "<table border=\"1\" class=\"dataframe\">\n",
              "  <thead>\n",
              "    <tr style=\"text-align: right;\">\n",
              "      <th></th>\n",
              "      <th>A</th>\n",
              "      <th>B</th>\n",
              "      <th>C</th>\n",
              "      <th>D</th>\n",
              "    </tr>\n",
              "  </thead>\n",
              "  <tbody>\n",
              "    <tr>\n",
              "      <th>0</th>\n",
              "      <td>d</td>\n",
              "      <td>e</td>\n",
              "      <td>f</td>\n",
              "      <td>add</td>\n",
              "    </tr>\n",
              "    <tr>\n",
              "      <th>1</th>\n",
              "      <td>-3</td>\n",
              "      <td>5</td>\n",
              "      <td>7</td>\n",
              "      <td>100</td>\n",
              "    </tr>\n",
              "  </tbody>\n",
              "</table>\n",
              "</div>"
            ],
            "text/plain": [
              "    A  B  C    D\n",
              "0   d  e  f  add\n",
              "1  -3  5  7  100"
            ]
          },
          "metadata": {
            "tags": []
          },
          "execution_count": 136
        }
      ]
    },
    {
      "cell_type": "code",
      "metadata": {
        "id": "9rP0oDpHO_Wl",
        "colab_type": "code",
        "colab": {}
      },
      "source": [
        "hap=pd.concat([af, bf])"
      ],
      "execution_count": 0,
      "outputs": []
    },
    {
      "cell_type": "code",
      "metadata": {
        "id": "a8qy-3ULPW2k",
        "colab_type": "code",
        "colab": {
          "base_uri": "https://localhost:8080/",
          "height": 168
        },
        "outputId": "d52923b3-9752-4ef4-fe3b-155e2f3f35d7"
      },
      "source": [
        "hap"
      ],
      "execution_count": 140,
      "outputs": [
        {
          "output_type": "execute_result",
          "data": {
            "text/html": [
              "<div>\n",
              "<style scoped>\n",
              "    .dataframe tbody tr th:only-of-type {\n",
              "        vertical-align: middle;\n",
              "    }\n",
              "\n",
              "    .dataframe tbody tr th {\n",
              "        vertical-align: top;\n",
              "    }\n",
              "\n",
              "    .dataframe thead th {\n",
              "        text-align: right;\n",
              "    }\n",
              "</style>\n",
              "<table border=\"1\" class=\"dataframe\">\n",
              "  <thead>\n",
              "    <tr style=\"text-align: right;\">\n",
              "      <th></th>\n",
              "      <th>A</th>\n",
              "      <th>B</th>\n",
              "      <th>C</th>\n",
              "      <th>D</th>\n",
              "    </tr>\n",
              "  </thead>\n",
              "  <tbody>\n",
              "    <tr>\n",
              "      <th>0</th>\n",
              "      <td>a</td>\n",
              "      <td>b</td>\n",
              "      <td>c</td>\n",
              "      <td>NaN</td>\n",
              "    </tr>\n",
              "    <tr>\n",
              "      <th>1</th>\n",
              "      <td>10</td>\n",
              "      <td>20</td>\n",
              "      <td>30</td>\n",
              "      <td>NaN</td>\n",
              "    </tr>\n",
              "    <tr>\n",
              "      <th>0</th>\n",
              "      <td>d</td>\n",
              "      <td>e</td>\n",
              "      <td>f</td>\n",
              "      <td>add</td>\n",
              "    </tr>\n",
              "    <tr>\n",
              "      <th>1</th>\n",
              "      <td>-3</td>\n",
              "      <td>5</td>\n",
              "      <td>7</td>\n",
              "      <td>100</td>\n",
              "    </tr>\n",
              "  </tbody>\n",
              "</table>\n",
              "</div>"
            ],
            "text/plain": [
              "    A   B   C    D\n",
              "0   a   b   c  NaN\n",
              "1  10  20  30  NaN\n",
              "0   d   e   f  add\n",
              "1  -3   5   7  100"
            ]
          },
          "metadata": {
            "tags": []
          },
          "execution_count": 140
        }
      ]
    },
    {
      "cell_type": "code",
      "metadata": {
        "id": "yzrxHrM4PYSR",
        "colab_type": "code",
        "colab": {}
      },
      "source": [
        "hap.index=[1,2,3,4]"
      ],
      "execution_count": 0,
      "outputs": []
    },
    {
      "cell_type": "code",
      "metadata": {
        "id": "r3lkIBNTP8FK",
        "colab_type": "code",
        "colab": {
          "base_uri": "https://localhost:8080/",
          "height": 168
        },
        "outputId": "3040d56f-881b-49fb-a706-34e9ab21c792"
      },
      "source": [
        "hap"
      ],
      "execution_count": 142,
      "outputs": [
        {
          "output_type": "execute_result",
          "data": {
            "text/html": [
              "<div>\n",
              "<style scoped>\n",
              "    .dataframe tbody tr th:only-of-type {\n",
              "        vertical-align: middle;\n",
              "    }\n",
              "\n",
              "    .dataframe tbody tr th {\n",
              "        vertical-align: top;\n",
              "    }\n",
              "\n",
              "    .dataframe thead th {\n",
              "        text-align: right;\n",
              "    }\n",
              "</style>\n",
              "<table border=\"1\" class=\"dataframe\">\n",
              "  <thead>\n",
              "    <tr style=\"text-align: right;\">\n",
              "      <th></th>\n",
              "      <th>A</th>\n",
              "      <th>B</th>\n",
              "      <th>C</th>\n",
              "      <th>D</th>\n",
              "    </tr>\n",
              "  </thead>\n",
              "  <tbody>\n",
              "    <tr>\n",
              "      <th>1</th>\n",
              "      <td>a</td>\n",
              "      <td>b</td>\n",
              "      <td>c</td>\n",
              "      <td>NaN</td>\n",
              "    </tr>\n",
              "    <tr>\n",
              "      <th>2</th>\n",
              "      <td>10</td>\n",
              "      <td>20</td>\n",
              "      <td>30</td>\n",
              "      <td>NaN</td>\n",
              "    </tr>\n",
              "    <tr>\n",
              "      <th>3</th>\n",
              "      <td>d</td>\n",
              "      <td>e</td>\n",
              "      <td>f</td>\n",
              "      <td>add</td>\n",
              "    </tr>\n",
              "    <tr>\n",
              "      <th>4</th>\n",
              "      <td>-3</td>\n",
              "      <td>5</td>\n",
              "      <td>7</td>\n",
              "      <td>100</td>\n",
              "    </tr>\n",
              "  </tbody>\n",
              "</table>\n",
              "</div>"
            ],
            "text/plain": [
              "    A   B   C    D\n",
              "1   a   b   c  NaN\n",
              "2  10  20  30  NaN\n",
              "3   d   e   f  add\n",
              "4  -3   5   7  100"
            ]
          },
          "metadata": {
            "tags": []
          },
          "execution_count": 142
        }
      ]
    },
    {
      "cell_type": "code",
      "metadata": {
        "id": "ubRAkJn0P8-m",
        "colab_type": "code",
        "colab": {
          "base_uri": "https://localhost:8080/",
          "height": 407
        },
        "outputId": "6b7a5615-4e69-438e-d5db-9640d361a27c"
      },
      "source": [
        "df=pd.concat(stu)\n",
        "df[:-30]"
      ],
      "execution_count": 143,
      "outputs": [
        {
          "output_type": "execute_result",
          "data": {
            "text/html": [
              "<div>\n",
              "<style scoped>\n",
              "    .dataframe tbody tr th:only-of-type {\n",
              "        vertical-align: middle;\n",
              "    }\n",
              "\n",
              "    .dataframe tbody tr th {\n",
              "        vertical-align: top;\n",
              "    }\n",
              "\n",
              "    .dataframe thead th {\n",
              "        text-align: right;\n",
              "    }\n",
              "</style>\n",
              "<table border=\"1\" class=\"dataframe\">\n",
              "  <thead>\n",
              "    <tr style=\"text-align: right;\">\n",
              "      <th></th>\n",
              "      <th>출신고교</th>\n",
              "      <th>학번</th>\n",
              "      <th>이름</th>\n",
              "      <th>국어</th>\n",
              "      <th>수학</th>\n",
              "      <th>영어</th>\n",
              "      <th>과탐1</th>\n",
              "      <th>과탐2</th>\n",
              "    </tr>\n",
              "  </thead>\n",
              "  <tbody>\n",
              "    <tr>\n",
              "      <th>0</th>\n",
              "      <td>D</td>\n",
              "      <td>30109</td>\n",
              "      <td>김국진</td>\n",
              "      <td>81</td>\n",
              "      <td>88</td>\n",
              "      <td>81</td>\n",
              "      <td>35</td>\n",
              "      <td>35</td>\n",
              "    </tr>\n",
              "    <tr>\n",
              "      <th>1</th>\n",
              "      <td>D</td>\n",
              "      <td>30124</td>\n",
              "      <td>김민종</td>\n",
              "      <td>66</td>\n",
              "      <td>7</td>\n",
              "      <td>77</td>\n",
              "      <td>23</td>\n",
              "      <td>34</td>\n",
              "    </tr>\n",
              "    <tr>\n",
              "      <th>2</th>\n",
              "      <td>D</td>\n",
              "      <td>30206</td>\n",
              "      <td>김태희</td>\n",
              "      <td>69</td>\n",
              "      <td>30</td>\n",
              "      <td>80</td>\n",
              "      <td>16</td>\n",
              "      <td>32</td>\n",
              "    </tr>\n",
              "    <tr>\n",
              "      <th>3</th>\n",
              "      <td>D</td>\n",
              "      <td>30212</td>\n",
              "      <td>문근영</td>\n",
              "      <td>83</td>\n",
              "      <td>92</td>\n",
              "      <td>82</td>\n",
              "      <td>38</td>\n",
              "      <td>40</td>\n",
              "    </tr>\n",
              "    <tr>\n",
              "      <th>4</th>\n",
              "      <td>D</td>\n",
              "      <td>30218</td>\n",
              "      <td>박신혜</td>\n",
              "      <td>96</td>\n",
              "      <td>80</td>\n",
              "      <td>89</td>\n",
              "      <td>39</td>\n",
              "      <td>44</td>\n",
              "    </tr>\n",
              "    <tr>\n",
              "      <th>...</th>\n",
              "      <td>...</td>\n",
              "      <td>...</td>\n",
              "      <td>...</td>\n",
              "      <td>...</td>\n",
              "      <td>...</td>\n",
              "      <td>...</td>\n",
              "      <td>...</td>\n",
              "      <td>...</td>\n",
              "    </tr>\n",
              "    <tr>\n",
              "      <th>20</th>\n",
              "      <td>B</td>\n",
              "      <td>30611</td>\n",
              "      <td>윤원앙</td>\n",
              "      <td>84</td>\n",
              "      <td>70</td>\n",
              "      <td>54</td>\n",
              "      <td>38</td>\n",
              "      <td>30</td>\n",
              "    </tr>\n",
              "    <tr>\n",
              "      <th>21</th>\n",
              "      <td>B</td>\n",
              "      <td>30619</td>\n",
              "      <td>장잉꼬</td>\n",
              "      <td>91</td>\n",
              "      <td>69</td>\n",
              "      <td>76</td>\n",
              "      <td>34</td>\n",
              "      <td>37</td>\n",
              "    </tr>\n",
              "    <tr>\n",
              "      <th>22</th>\n",
              "      <td>B</td>\n",
              "      <td>30627</td>\n",
              "      <td>임솔개</td>\n",
              "      <td>37</td>\n",
              "      <td>9</td>\n",
              "      <td>10</td>\n",
              "      <td>20</td>\n",
              "      <td>15</td>\n",
              "    </tr>\n",
              "    <tr>\n",
              "      <th>23</th>\n",
              "      <td>B</td>\n",
              "      <td>30704</td>\n",
              "      <td>심황태</td>\n",
              "      <td>79</td>\n",
              "      <td>77</td>\n",
              "      <td>91</td>\n",
              "      <td>39</td>\n",
              "      <td>47</td>\n",
              "    </tr>\n",
              "    <tr>\n",
              "      <th>24</th>\n",
              "      <td>B</td>\n",
              "      <td>30710</td>\n",
              "      <td>노도미</td>\n",
              "      <td>77</td>\n",
              "      <td>17</td>\n",
              "      <td>47</td>\n",
              "      <td>41</td>\n",
              "      <td>39</td>\n",
              "    </tr>\n",
              "  </tbody>\n",
              "</table>\n",
              "<p>279 rows × 8 columns</p>\n",
              "</div>"
            ],
            "text/plain": [
              "   출신고교     학번   이름  국어  수학  영어  과탐1  과탐2\n",
              "0     D  30109  김국진  81  88  81   35   35\n",
              "1     D  30124  김민종  66   7  77   23   34\n",
              "2     D  30206  김태희  69  30  80   16   32\n",
              "3     D  30212  문근영  83  92  82   38   40\n",
              "4     D  30218  박신혜  96  80  89   39   44\n",
              "..  ...    ...  ...  ..  ..  ..  ...  ...\n",
              "20    B  30611  윤원앙  84  70  54   38   30\n",
              "21    B  30619  장잉꼬  91  69  76   34   37\n",
              "22    B  30627  임솔개  37   9  10   20   15\n",
              "23    B  30704  심황태  79  77  91   39   47\n",
              "24    B  30710  노도미  77  17  47   41   39\n",
              "\n",
              "[279 rows x 8 columns]"
            ]
          },
          "metadata": {
            "tags": []
          },
          "execution_count": 143
        }
      ]
    },
    {
      "cell_type": "code",
      "metadata": {
        "id": "zMK1Vm7lQ46M",
        "colab_type": "code",
        "colab": {}
      },
      "source": [
        "df.index=range(1,310)"
      ],
      "execution_count": 0,
      "outputs": []
    },
    {
      "cell_type": "code",
      "metadata": {
        "id": "pToCXJa1RDvk",
        "colab_type": "code",
        "colab": {
          "base_uri": "https://localhost:8080/",
          "height": 198
        },
        "outputId": "9ae7658d-19dd-4cf4-fd98-36a00149d2d0"
      },
      "source": [
        "df.tail()"
      ],
      "execution_count": 106,
      "outputs": [
        {
          "output_type": "execute_result",
          "data": {
            "text/html": [
              "<div>\n",
              "<style scoped>\n",
              "    .dataframe tbody tr th:only-of-type {\n",
              "        vertical-align: middle;\n",
              "    }\n",
              "\n",
              "    .dataframe tbody tr th {\n",
              "        vertical-align: top;\n",
              "    }\n",
              "\n",
              "    .dataframe thead th {\n",
              "        text-align: right;\n",
              "    }\n",
              "</style>\n",
              "<table border=\"1\" class=\"dataframe\">\n",
              "  <thead>\n",
              "    <tr style=\"text-align: right;\">\n",
              "      <th></th>\n",
              "      <th>출신고교</th>\n",
              "      <th>학번</th>\n",
              "      <th>이름</th>\n",
              "      <th>국어</th>\n",
              "      <th>수학</th>\n",
              "      <th>영어</th>\n",
              "      <th>과탐1</th>\n",
              "      <th>과탐2</th>\n",
              "    </tr>\n",
              "  </thead>\n",
              "  <tbody>\n",
              "    <tr>\n",
              "      <th>286</th>\n",
              "      <td>A</td>\n",
              "      <td>30822</td>\n",
              "      <td>조황돔</td>\n",
              "      <td>84</td>\n",
              "      <td>88</td>\n",
              "      <td>76</td>\n",
              "      <td>37</td>\n",
              "      <td>37</td>\n",
              "    </tr>\n",
              "    <tr>\n",
              "      <th>287</th>\n",
              "      <td>A</td>\n",
              "      <td>30824</td>\n",
              "      <td>백돌돔</td>\n",
              "      <td>83</td>\n",
              "      <td>88</td>\n",
              "      <td>80</td>\n",
              "      <td>30</td>\n",
              "      <td>30</td>\n",
              "    </tr>\n",
              "    <tr>\n",
              "      <th>288</th>\n",
              "      <td>A</td>\n",
              "      <td>30827</td>\n",
              "      <td>허대구</td>\n",
              "      <td>95</td>\n",
              "      <td>70</td>\n",
              "      <td>67</td>\n",
              "      <td>35</td>\n",
              "      <td>29</td>\n",
              "    </tr>\n",
              "    <tr>\n",
              "      <th>289</th>\n",
              "      <td>A</td>\n",
              "      <td>30901</td>\n",
              "      <td>유명태</td>\n",
              "      <td>87</td>\n",
              "      <td>69</td>\n",
              "      <td>96</td>\n",
              "      <td>37</td>\n",
              "      <td>40</td>\n",
              "    </tr>\n",
              "    <tr>\n",
              "      <th>290</th>\n",
              "      <td>A</td>\n",
              "      <td>30928</td>\n",
              "      <td>남동태</td>\n",
              "      <td>91</td>\n",
              "      <td>50</td>\n",
              "      <td>80</td>\n",
              "      <td>29</td>\n",
              "      <td>26</td>\n",
              "    </tr>\n",
              "  </tbody>\n",
              "</table>\n",
              "</div>"
            ],
            "text/plain": [
              "    출신고교     학번   이름  국어  수학  영어  과탐1  과탐2\n",
              "286    A  30822  조황돔  84  88  76   37   37\n",
              "287    A  30824  백돌돔  83  88  80   30   30\n",
              "288    A  30827  허대구  95  70  67   35   29\n",
              "289    A  30901  유명태  87  69  96   37   40\n",
              "290    A  30928  남동태  91  50  80   29   26"
            ]
          },
          "metadata": {
            "tags": []
          },
          "execution_count": 106
        }
      ]
    },
    {
      "cell_type": "code",
      "metadata": {
        "id": "0mCLohIeRf_d",
        "colab_type": "code",
        "colab": {
          "base_uri": "https://localhost:8080/",
          "height": 348
        },
        "outputId": "ad1433cb-c5f9-43cc-f513-c2166dd87fbd"
      },
      "source": [
        "df[47:57]"
      ],
      "execution_count": 111,
      "outputs": [
        {
          "output_type": "execute_result",
          "data": {
            "text/html": [
              "<div>\n",
              "<style scoped>\n",
              "    .dataframe tbody tr th:only-of-type {\n",
              "        vertical-align: middle;\n",
              "    }\n",
              "\n",
              "    .dataframe tbody tr th {\n",
              "        vertical-align: top;\n",
              "    }\n",
              "\n",
              "    .dataframe thead th {\n",
              "        text-align: right;\n",
              "    }\n",
              "</style>\n",
              "<table border=\"1\" class=\"dataframe\">\n",
              "  <thead>\n",
              "    <tr style=\"text-align: right;\">\n",
              "      <th></th>\n",
              "      <th>출신고교</th>\n",
              "      <th>학번</th>\n",
              "      <th>이름</th>\n",
              "      <th>국어</th>\n",
              "      <th>수학</th>\n",
              "      <th>영어</th>\n",
              "      <th>과탐1</th>\n",
              "      <th>과탐2</th>\n",
              "    </tr>\n",
              "  </thead>\n",
              "  <tbody>\n",
              "    <tr>\n",
              "      <th>48</th>\n",
              "      <td>A</td>\n",
              "      <td>30529</td>\n",
              "      <td>전꽁치</td>\n",
              "      <td>79</td>\n",
              "      <td>46</td>\n",
              "      <td>68</td>\n",
              "      <td>34</td>\n",
              "      <td>34</td>\n",
              "    </tr>\n",
              "    <tr>\n",
              "      <th>49</th>\n",
              "      <td>A</td>\n",
              "      <td>30622</td>\n",
              "      <td>유쥐치</td>\n",
              "      <td>95</td>\n",
              "      <td>85</td>\n",
              "      <td>91</td>\n",
              "      <td>38</td>\n",
              "      <td>32</td>\n",
              "    </tr>\n",
              "    <tr>\n",
              "      <th>50</th>\n",
              "      <td>A</td>\n",
              "      <td>30707</td>\n",
              "      <td>고조기</td>\n",
              "      <td>57</td>\n",
              "      <td>69</td>\n",
              "      <td>72</td>\n",
              "      <td>8</td>\n",
              "      <td>18</td>\n",
              "    </tr>\n",
              "    <tr>\n",
              "      <th>51</th>\n",
              "      <td>A</td>\n",
              "      <td>30709</td>\n",
              "      <td>문메기</td>\n",
              "      <td>72</td>\n",
              "      <td>77</td>\n",
              "      <td>91</td>\n",
              "      <td>18</td>\n",
              "      <td>33</td>\n",
              "    </tr>\n",
              "    <tr>\n",
              "      <th>52</th>\n",
              "      <td>A</td>\n",
              "      <td>30803</td>\n",
              "      <td>손뿔돔</td>\n",
              "      <td>71</td>\n",
              "      <td>80</td>\n",
              "      <td>48</td>\n",
              "      <td>34</td>\n",
              "      <td>29</td>\n",
              "    </tr>\n",
              "    <tr>\n",
              "      <th>53</th>\n",
              "      <td>A</td>\n",
              "      <td>30815</td>\n",
              "      <td>배옥돔</td>\n",
              "      <td>49</td>\n",
              "      <td>70</td>\n",
              "      <td>31</td>\n",
              "      <td>12</td>\n",
              "      <td>21</td>\n",
              "    </tr>\n",
              "    <tr>\n",
              "      <th>54</th>\n",
              "      <td>A</td>\n",
              "      <td>30822</td>\n",
              "      <td>조황돔</td>\n",
              "      <td>84</td>\n",
              "      <td>88</td>\n",
              "      <td>76</td>\n",
              "      <td>37</td>\n",
              "      <td>37</td>\n",
              "    </tr>\n",
              "    <tr>\n",
              "      <th>55</th>\n",
              "      <td>A</td>\n",
              "      <td>30824</td>\n",
              "      <td>백돌돔</td>\n",
              "      <td>83</td>\n",
              "      <td>88</td>\n",
              "      <td>80</td>\n",
              "      <td>30</td>\n",
              "      <td>30</td>\n",
              "    </tr>\n",
              "    <tr>\n",
              "      <th>56</th>\n",
              "      <td>A</td>\n",
              "      <td>30827</td>\n",
              "      <td>허대구</td>\n",
              "      <td>95</td>\n",
              "      <td>70</td>\n",
              "      <td>67</td>\n",
              "      <td>35</td>\n",
              "      <td>29</td>\n",
              "    </tr>\n",
              "    <tr>\n",
              "      <th>57</th>\n",
              "      <td>A</td>\n",
              "      <td>30901</td>\n",
              "      <td>유명태</td>\n",
              "      <td>87</td>\n",
              "      <td>69</td>\n",
              "      <td>96</td>\n",
              "      <td>37</td>\n",
              "      <td>40</td>\n",
              "    </tr>\n",
              "  </tbody>\n",
              "</table>\n",
              "</div>"
            ],
            "text/plain": [
              "   출신고교     학번   이름  국어  수학  영어  과탐1  과탐2\n",
              "48    A  30529  전꽁치  79  46  68   34   34\n",
              "49    A  30622  유쥐치  95  85  91   38   32\n",
              "50    A  30707  고조기  57  69  72    8   18\n",
              "51    A  30709  문메기  72  77  91   18   33\n",
              "52    A  30803  손뿔돔  71  80  48   34   29\n",
              "53    A  30815  배옥돔  49  70  31   12   21\n",
              "54    A  30822  조황돔  84  88  76   37   37\n",
              "55    A  30824  백돌돔  83  88  80   30   30\n",
              "56    A  30827  허대구  95  70  67   35   29\n",
              "57    A  30901  유명태  87  69  96   37   40"
            ]
          },
          "metadata": {
            "tags": []
          },
          "execution_count": 111
        }
      ]
    },
    {
      "cell_type": "code",
      "metadata": {
        "id": "FuFSRdxHRtbo",
        "colab_type": "code",
        "colab": {
          "base_uri": "https://localhost:8080/",
          "height": 407
        },
        "outputId": "5752ebf0-77e2-4862-c726-d399d68ea26a"
      },
      "source": [
        "df['변환점수']=df['국어']*0.2 +df['수학']*0.4+(df['과탐1']+df['과탐2'])*0.4\n",
        "df"
      ],
      "execution_count": 147,
      "outputs": [
        {
          "output_type": "execute_result",
          "data": {
            "text/html": [
              "<div>\n",
              "<style scoped>\n",
              "    .dataframe tbody tr th:only-of-type {\n",
              "        vertical-align: middle;\n",
              "    }\n",
              "\n",
              "    .dataframe tbody tr th {\n",
              "        vertical-align: top;\n",
              "    }\n",
              "\n",
              "    .dataframe thead th {\n",
              "        text-align: right;\n",
              "    }\n",
              "</style>\n",
              "<table border=\"1\" class=\"dataframe\">\n",
              "  <thead>\n",
              "    <tr style=\"text-align: right;\">\n",
              "      <th></th>\n",
              "      <th>출신고교</th>\n",
              "      <th>학번</th>\n",
              "      <th>이름</th>\n",
              "      <th>국어</th>\n",
              "      <th>수학</th>\n",
              "      <th>영어</th>\n",
              "      <th>과탐1</th>\n",
              "      <th>과탐2</th>\n",
              "      <th>변환점수</th>\n",
              "    </tr>\n",
              "  </thead>\n",
              "  <tbody>\n",
              "    <tr>\n",
              "      <th>1</th>\n",
              "      <td>D</td>\n",
              "      <td>30109</td>\n",
              "      <td>김국진</td>\n",
              "      <td>81</td>\n",
              "      <td>88</td>\n",
              "      <td>81</td>\n",
              "      <td>35</td>\n",
              "      <td>35</td>\n",
              "      <td>79.4</td>\n",
              "    </tr>\n",
              "    <tr>\n",
              "      <th>2</th>\n",
              "      <td>D</td>\n",
              "      <td>30124</td>\n",
              "      <td>김민종</td>\n",
              "      <td>66</td>\n",
              "      <td>7</td>\n",
              "      <td>77</td>\n",
              "      <td>23</td>\n",
              "      <td>34</td>\n",
              "      <td>38.8</td>\n",
              "    </tr>\n",
              "    <tr>\n",
              "      <th>3</th>\n",
              "      <td>D</td>\n",
              "      <td>30206</td>\n",
              "      <td>김태희</td>\n",
              "      <td>69</td>\n",
              "      <td>30</td>\n",
              "      <td>80</td>\n",
              "      <td>16</td>\n",
              "      <td>32</td>\n",
              "      <td>45.0</td>\n",
              "    </tr>\n",
              "    <tr>\n",
              "      <th>4</th>\n",
              "      <td>D</td>\n",
              "      <td>30212</td>\n",
              "      <td>문근영</td>\n",
              "      <td>83</td>\n",
              "      <td>92</td>\n",
              "      <td>82</td>\n",
              "      <td>38</td>\n",
              "      <td>40</td>\n",
              "      <td>84.6</td>\n",
              "    </tr>\n",
              "    <tr>\n",
              "      <th>5</th>\n",
              "      <td>D</td>\n",
              "      <td>30218</td>\n",
              "      <td>박신혜</td>\n",
              "      <td>96</td>\n",
              "      <td>80</td>\n",
              "      <td>89</td>\n",
              "      <td>39</td>\n",
              "      <td>44</td>\n",
              "      <td>84.4</td>\n",
              "    </tr>\n",
              "    <tr>\n",
              "      <th>...</th>\n",
              "      <td>...</td>\n",
              "      <td>...</td>\n",
              "      <td>...</td>\n",
              "      <td>...</td>\n",
              "      <td>...</td>\n",
              "      <td>...</td>\n",
              "      <td>...</td>\n",
              "      <td>...</td>\n",
              "      <td>...</td>\n",
              "    </tr>\n",
              "    <tr>\n",
              "      <th>305</th>\n",
              "      <td>A</td>\n",
              "      <td>30822</td>\n",
              "      <td>조황돔</td>\n",
              "      <td>84</td>\n",
              "      <td>88</td>\n",
              "      <td>76</td>\n",
              "      <td>37</td>\n",
              "      <td>37</td>\n",
              "      <td>81.6</td>\n",
              "    </tr>\n",
              "    <tr>\n",
              "      <th>306</th>\n",
              "      <td>A</td>\n",
              "      <td>30824</td>\n",
              "      <td>백돌돔</td>\n",
              "      <td>83</td>\n",
              "      <td>88</td>\n",
              "      <td>80</td>\n",
              "      <td>30</td>\n",
              "      <td>30</td>\n",
              "      <td>75.8</td>\n",
              "    </tr>\n",
              "    <tr>\n",
              "      <th>307</th>\n",
              "      <td>A</td>\n",
              "      <td>30827</td>\n",
              "      <td>허대구</td>\n",
              "      <td>95</td>\n",
              "      <td>70</td>\n",
              "      <td>67</td>\n",
              "      <td>35</td>\n",
              "      <td>29</td>\n",
              "      <td>72.6</td>\n",
              "    </tr>\n",
              "    <tr>\n",
              "      <th>308</th>\n",
              "      <td>A</td>\n",
              "      <td>30901</td>\n",
              "      <td>유명태</td>\n",
              "      <td>87</td>\n",
              "      <td>69</td>\n",
              "      <td>96</td>\n",
              "      <td>37</td>\n",
              "      <td>40</td>\n",
              "      <td>75.8</td>\n",
              "    </tr>\n",
              "    <tr>\n",
              "      <th>309</th>\n",
              "      <td>A</td>\n",
              "      <td>30928</td>\n",
              "      <td>남동태</td>\n",
              "      <td>91</td>\n",
              "      <td>50</td>\n",
              "      <td>80</td>\n",
              "      <td>29</td>\n",
              "      <td>26</td>\n",
              "      <td>60.2</td>\n",
              "    </tr>\n",
              "  </tbody>\n",
              "</table>\n",
              "<p>309 rows × 9 columns</p>\n",
              "</div>"
            ],
            "text/plain": [
              "    출신고교     학번   이름  국어  수학  영어  과탐1  과탐2  변환점수\n",
              "1      D  30109  김국진  81  88  81   35   35  79.4\n",
              "2      D  30124  김민종  66   7  77   23   34  38.8\n",
              "3      D  30206  김태희  69  30  80   16   32  45.0\n",
              "4      D  30212  문근영  83  92  82   38   40  84.6\n",
              "5      D  30218  박신혜  96  80  89   39   44  84.4\n",
              "..   ...    ...  ...  ..  ..  ..  ...  ...   ...\n",
              "305    A  30822  조황돔  84  88  76   37   37  81.6\n",
              "306    A  30824  백돌돔  83  88  80   30   30  75.8\n",
              "307    A  30827  허대구  95  70  67   35   29  72.6\n",
              "308    A  30901  유명태  87  69  96   37   40  75.8\n",
              "309    A  30928  남동태  91  50  80   29   26  60.2\n",
              "\n",
              "[309 rows x 9 columns]"
            ]
          },
          "metadata": {
            "tags": []
          },
          "execution_count": 147
        }
      ]
    },
    {
      "cell_type": "code",
      "metadata": {
        "id": "0I_T2grISVtE",
        "colab_type": "code",
        "colab": {}
      },
      "source": [
        "df['합격']=df['변환점수']>70"
      ],
      "execution_count": 0,
      "outputs": []
    },
    {
      "cell_type": "code",
      "metadata": {
        "id": "CUGY5qNDSoUm",
        "colab_type": "code",
        "colab": {
          "base_uri": "https://localhost:8080/",
          "height": 235
        },
        "outputId": "8a91de4b-aa8d-4447-fae4-3de27aa985da"
      },
      "source": [
        "df['합격']"
      ],
      "execution_count": 150,
      "outputs": [
        {
          "output_type": "execute_result",
          "data": {
            "text/plain": [
              "1       True\n",
              "2      False\n",
              "3      False\n",
              "4       True\n",
              "5       True\n",
              "       ...  \n",
              "305     True\n",
              "306     True\n",
              "307     True\n",
              "308     True\n",
              "309    False\n",
              "Name: 합격, Length: 309, dtype: bool"
            ]
          },
          "metadata": {
            "tags": []
          },
          "execution_count": 150
        }
      ]
    },
    {
      "cell_type": "code",
      "metadata": {
        "id": "-e17pHjQSyNs",
        "colab_type": "code",
        "colab": {
          "base_uri": "https://localhost:8080/",
          "height": 348
        },
        "outputId": "967e462a-23b4-4820-cd6f-e00e591fdfd6"
      },
      "source": [
        "df.sort_values('변환점수', ascending=False).head(10)"
      ],
      "execution_count": 158,
      "outputs": [
        {
          "output_type": "execute_result",
          "data": {
            "text/html": [
              "<div>\n",
              "<style scoped>\n",
              "    .dataframe tbody tr th:only-of-type {\n",
              "        vertical-align: middle;\n",
              "    }\n",
              "\n",
              "    .dataframe tbody tr th {\n",
              "        vertical-align: top;\n",
              "    }\n",
              "\n",
              "    .dataframe thead th {\n",
              "        text-align: right;\n",
              "    }\n",
              "</style>\n",
              "<table border=\"1\" class=\"dataframe\">\n",
              "  <thead>\n",
              "    <tr style=\"text-align: right;\">\n",
              "      <th></th>\n",
              "      <th>출신고교</th>\n",
              "      <th>학번</th>\n",
              "      <th>이름</th>\n",
              "      <th>국어</th>\n",
              "      <th>수학</th>\n",
              "      <th>영어</th>\n",
              "      <th>과탐1</th>\n",
              "      <th>과탐2</th>\n",
              "      <th>변환점수</th>\n",
              "      <th>합격</th>\n",
              "    </tr>\n",
              "  </thead>\n",
              "  <tbody>\n",
              "    <tr>\n",
              "      <th>39</th>\n",
              "      <td>H</td>\n",
              "      <td>30808</td>\n",
              "      <td>신동엽</td>\n",
              "      <td>87</td>\n",
              "      <td>92</td>\n",
              "      <td>89</td>\n",
              "      <td>50</td>\n",
              "      <td>49</td>\n",
              "      <td>93.8</td>\n",
              "      <td>True</td>\n",
              "    </tr>\n",
              "    <tr>\n",
              "      <th>212</th>\n",
              "      <td>G</td>\n",
              "      <td>30722</td>\n",
              "      <td>하지원</td>\n",
              "      <td>98</td>\n",
              "      <td>94</td>\n",
              "      <td>91</td>\n",
              "      <td>45</td>\n",
              "      <td>45</td>\n",
              "      <td>93.2</td>\n",
              "      <td>True</td>\n",
              "    </tr>\n",
              "    <tr>\n",
              "      <th>121</th>\n",
              "      <td>I</td>\n",
              "      <td>30812</td>\n",
              "      <td>김거북</td>\n",
              "      <td>80</td>\n",
              "      <td>93</td>\n",
              "      <td>90</td>\n",
              "      <td>49</td>\n",
              "      <td>50</td>\n",
              "      <td>92.8</td>\n",
              "      <td>True</td>\n",
              "    </tr>\n",
              "    <tr>\n",
              "      <th>269</th>\n",
              "      <td>B</td>\n",
              "      <td>30419</td>\n",
              "      <td>정타조</td>\n",
              "      <td>100</td>\n",
              "      <td>85</td>\n",
              "      <td>85</td>\n",
              "      <td>46</td>\n",
              "      <td>46</td>\n",
              "      <td>90.8</td>\n",
              "      <td>True</td>\n",
              "    </tr>\n",
              "    <tr>\n",
              "      <th>152</th>\n",
              "      <td>C</td>\n",
              "      <td>30805</td>\n",
              "      <td>지상렬</td>\n",
              "      <td>92</td>\n",
              "      <td>96</td>\n",
              "      <td>69</td>\n",
              "      <td>47</td>\n",
              "      <td>38</td>\n",
              "      <td>90.8</td>\n",
              "      <td>True</td>\n",
              "    </tr>\n",
              "    <tr>\n",
              "      <th>172</th>\n",
              "      <td>F</td>\n",
              "      <td>30406</td>\n",
              "      <td>김병만</td>\n",
              "      <td>84</td>\n",
              "      <td>96</td>\n",
              "      <td>79</td>\n",
              "      <td>42</td>\n",
              "      <td>45</td>\n",
              "      <td>90.0</td>\n",
              "      <td>True</td>\n",
              "    </tr>\n",
              "    <tr>\n",
              "      <th>12</th>\n",
              "      <td>D</td>\n",
              "      <td>30420</td>\n",
              "      <td>장미희</td>\n",
              "      <td>97</td>\n",
              "      <td>88</td>\n",
              "      <td>86</td>\n",
              "      <td>44</td>\n",
              "      <td>44</td>\n",
              "      <td>89.8</td>\n",
              "      <td>True</td>\n",
              "    </tr>\n",
              "    <tr>\n",
              "      <th>243</th>\n",
              "      <td>J</td>\n",
              "      <td>30720</td>\n",
              "      <td>이승우</td>\n",
              "      <td>98</td>\n",
              "      <td>88</td>\n",
              "      <td>89</td>\n",
              "      <td>37</td>\n",
              "      <td>50</td>\n",
              "      <td>89.6</td>\n",
              "      <td>True</td>\n",
              "    </tr>\n",
              "    <tr>\n",
              "      <th>224</th>\n",
              "      <td>J</td>\n",
              "      <td>30116</td>\n",
              "      <td>전이경</td>\n",
              "      <td>96</td>\n",
              "      <td>88</td>\n",
              "      <td>78</td>\n",
              "      <td>38</td>\n",
              "      <td>49</td>\n",
              "      <td>89.2</td>\n",
              "      <td>True</td>\n",
              "    </tr>\n",
              "    <tr>\n",
              "      <th>227</th>\n",
              "      <td>J</td>\n",
              "      <td>30227</td>\n",
              "      <td>조윤정</td>\n",
              "      <td>88</td>\n",
              "      <td>88</td>\n",
              "      <td>80</td>\n",
              "      <td>44</td>\n",
              "      <td>47</td>\n",
              "      <td>89.2</td>\n",
              "      <td>True</td>\n",
              "    </tr>\n",
              "  </tbody>\n",
              "</table>\n",
              "</div>"
            ],
            "text/plain": [
              "    출신고교     학번   이름   국어  수학  영어  과탐1  과탐2  변환점수    합격\n",
              "39     H  30808  신동엽   87  92  89   50   49  93.8  True\n",
              "212    G  30722  하지원   98  94  91   45   45  93.2  True\n",
              "121    I  30812  김거북   80  93  90   49   50  92.8  True\n",
              "269    B  30419  정타조  100  85  85   46   46  90.8  True\n",
              "152    C  30805  지상렬   92  96  69   47   38  90.8  True\n",
              "172    F  30406  김병만   84  96  79   42   45  90.0  True\n",
              "12     D  30420  장미희   97  88  86   44   44  89.8  True\n",
              "243    J  30720  이승우   98  88  89   37   50  89.6  True\n",
              "224    J  30116  전이경   96  88  78   38   49  89.2  True\n",
              "227    J  30227  조윤정   88  88  80   44   47  89.2  True"
            ]
          },
          "metadata": {
            "tags": []
          },
          "execution_count": 158
        }
      ]
    }
  ]
}