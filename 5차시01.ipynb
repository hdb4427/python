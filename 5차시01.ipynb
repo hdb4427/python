{
  "nbformat": 4,
  "nbformat_minor": 0,
  "metadata": {
    "colab": {
      "name": "5차시01.ipynb",
      "provenance": [],
      "authorship_tag": "ABX9TyPy5B3xCYJUh5+y/ZeZBf1G",
      "include_colab_link": true
    },
    "kernelspec": {
      "name": "python3",
      "display_name": "Python 3"
    }
  },
  "cells": [
    {
      "cell_type": "markdown",
      "metadata": {
        "id": "view-in-github",
        "colab_type": "text"
      },
      "source": [
        "<a href=\"https://colab.research.google.com/github/hdb4427/python/blob/master/5%EC%B0%A8%EC%8B%9C01.ipynb\" target=\"_parent\"><img src=\"https://colab.research.google.com/assets/colab-badge.svg\" alt=\"Open In Colab\"/></a>"
      ]
    },
    {
      "cell_type": "code",
      "metadata": {
        "id": "EECr6Msf4jgL",
        "colab_type": "code",
        "colab": {}
      },
      "source": [
        ""
      ],
      "execution_count": 0,
      "outputs": []
    },
    {
      "cell_type": "markdown",
      "metadata": {
        "id": "yQo6bMcr5gVy",
        "colab_type": "text"
      },
      "source": [
        "1. while\n",
        "초기값\n",
        "조건\n",
        "실행문\n"
      ]
    },
    {
      "cell_type": "code",
      "metadata": {
        "id": "Ev1RRkAN5rWJ",
        "colab_type": "code",
        "colab": {
          "base_uri": "https://localhost:8080/",
          "height": 35
        },
        "outputId": "853f503e-1603-4e2b-f6ee-0086b2c2e253"
      },
      "source": [
        "for i in range(1,11,+2) :\n",
        "  print(i,end=' ')"
      ],
      "execution_count": 5,
      "outputs": [
        {
          "output_type": "stream",
          "text": [
            "1 3 5 7 9 "
          ],
          "name": "stdout"
        }
      ]
    },
    {
      "cell_type": "code",
      "metadata": {
        "id": "fnTsqSNL5vbA",
        "colab_type": "code",
        "colab": {
          "base_uri": "https://localhost:8080/",
          "height": 35
        },
        "outputId": "35400022-3b78-43a2-bf9d-be7e4d519cfb"
      },
      "source": [
        "i=1\n",
        "while(i<11):\n",
        "  print(i,end=' ')\n",
        "  i+=2\n"
      ],
      "execution_count": 11,
      "outputs": [
        {
          "output_type": "stream",
          "text": [
            "1 3 5 7 9 "
          ],
          "name": "stdout"
        }
      ]
    },
    {
      "cell_type": "code",
      "metadata": {
        "id": "vxzk-MAL6Z9t",
        "colab_type": "code",
        "colab": {
          "base_uri": "https://localhost:8080/",
          "height": 35
        },
        "outputId": "079c5e84-4106-41b3-8a92-6b7d8e0bf956"
      },
      "source": [
        "num=list(range(10,110,10))\n",
        "print(num)"
      ],
      "execution_count": 15,
      "outputs": [
        {
          "output_type": "stream",
          "text": [
            "[10, 20, 30, 40, 50, 60, 70, 80, 90, 100]\n"
          ],
          "name": "stdout"
        }
      ]
    },
    {
      "cell_type": "code",
      "metadata": {
        "id": "3Ue5lkkS6pcX",
        "colab_type": "code",
        "colab": {
          "base_uri": "https://localhost:8080/",
          "height": 35
        },
        "outputId": "026f5bd8-9610-4aa6-fc4f-51ddc21394fb"
      },
      "source": [
        "a=0\n",
        "while(a<len(num)):\n",
        "  print(num[a],end=' ')\n",
        "  a+=1"
      ],
      "execution_count": 20,
      "outputs": [
        {
          "output_type": "stream",
          "text": [
            "10 20 30 40 50 60 70 80 90 100 "
          ],
          "name": "stdout"
        }
      ]
    },
    {
      "cell_type": "code",
      "metadata": {
        "id": "ADSWOJOh7bc0",
        "colab_type": "code",
        "colab": {
          "base_uri": "https://localhost:8080/",
          "height": 35
        },
        "outputId": "da219ebd-cdde-4f6a-dbc9-2f3bf97abd15"
      },
      "source": [
        "lunch=['라면, 햄버거, 김밥, 돈까스, 자장면']\n",
        "i=0\n",
        "while(i<len(lunch)):\n",
        "  print(lunch[i])\n",
        "  i+=1"
      ],
      "execution_count": 45,
      "outputs": [
        {
          "output_type": "stream",
          "text": [
            "라면, 햄버거, 김밥, 돈까스, 자장면\n"
          ],
          "name": "stdout"
        }
      ]
    },
    {
      "cell_type": "code",
      "metadata": {
        "id": "rmRDjXLw8COF",
        "colab_type": "code",
        "colab": {
          "base_uri": "https://localhost:8080/",
          "height": 35
        },
        "outputId": "58787a81-be64-4575-ad2e-952dbc96800e"
      },
      "source": [
        "lunch.sort()\n",
        "lunch"
      ],
      "execution_count": 38,
      "outputs": [
        {
          "output_type": "execute_result",
          "data": {
            "text/plain": [
              "['라면, 햄버거, 김밥, 돈까스, 자장면']"
            ]
          },
          "metadata": {
            "tags": []
          },
          "execution_count": 38
        }
      ]
    },
    {
      "cell_type": "code",
      "metadata": {
        "id": "FZqVlJJZ8YV3",
        "colab_type": "code",
        "colab": {
          "base_uri": "https://localhost:8080/",
          "height": 35
        },
        "outputId": "880097bc-2893-43ce-85df-699bc38a021e"
      },
      "source": [
        "lunch.reverse()\n",
        "lunch"
      ],
      "execution_count": 39,
      "outputs": [
        {
          "output_type": "execute_result",
          "data": {
            "text/plain": [
              "['라면, 햄버거, 김밥, 돈까스, 자장면']"
            ]
          },
          "metadata": {
            "tags": []
          },
          "execution_count": 39
        }
      ]
    },
    {
      "cell_type": "code",
      "metadata": {
        "id": "kYaKeAIB8jvQ",
        "colab_type": "code",
        "colab": {
          "base_uri": "https://localhost:8080/",
          "height": 35
        },
        "outputId": "47fba671-0f33-4dec-d711-2f0734e9442f"
      },
      "source": [
        "import random as r\n",
        "r.shuffle(lunch)\n",
        "lunch"
      ],
      "execution_count": 48,
      "outputs": [
        {
          "output_type": "execute_result",
          "data": {
            "text/plain": [
              "['라면, 햄버거, 김밥, 돈까스, 자장면']"
            ]
          },
          "metadata": {
            "tags": []
          },
          "execution_count": 48
        }
      ]
    },
    {
      "cell_type": "markdown",
      "metadata": {
        "id": "ZNn2top39D6o",
        "colab_type": "text"
      },
      "source": [
        "continue 계속\n",
        "break 정"
      ]
    },
    {
      "cell_type": "code",
      "metadata": {
        "id": "RSKfm_0i9JZu",
        "colab_type": "code",
        "colab": {
          "base_uri": "https://localhost:8080/",
          "height": 35
        },
        "outputId": "bd96f4d3-7d09-481d-a974-a017157d6103"
      },
      "source": [
        "i=1\n",
        "while i<=10:\n",
        "  print(i,end=' ')\n",
        "  i+=1\n",
        "  if i<7:\n",
        "    continue\n",
        "  break"
      ],
      "execution_count": 50,
      "outputs": [
        {
          "output_type": "stream",
          "text": [
            "1 2 3 4 5 6 "
          ],
          "name": "stdout"
        }
      ]
    },
    {
      "cell_type": "code",
      "metadata": {
        "id": "FBj880NQ9hIF",
        "colab_type": "code",
        "colab": {
          "base_uri": "https://localhost:8080/",
          "height": 72
        },
        "outputId": "a7d2fd4b-90b8-416e-d6a1-d107f05eb14b"
      },
      "source": [
        "i=0\n",
        "s=0\n",
        "af=0\n",
        "num=range(10,110,10)\n",
        "while(i<len(num)) :\n",
        "  print(num[i],end='/')\n",
        "  s+=int(num[i])\n",
        "  i+=1\n",
        "  if num[i]==50:\n",
        "    i+=1\n",
        "    continue\n",
        "  if num[i]>80:\n",
        "    break\n",
        "print('\\n합계: ',s)\n",
        "print('평균: ',s/10)"
      ],
      "execution_count": 103,
      "outputs": [
        {
          "output_type": "stream",
          "text": [
            "10/20/30/40/60/70/80/90/\n",
            "합계:  400\n",
            "평균:  40.0\n"
          ],
          "name": "stdout"
        }
      ]
    },
    {
      "cell_type": "code",
      "metadata": {
        "id": "EKBVwavp90r4",
        "colab_type": "code",
        "colab": {
          "base_uri": "https://localhost:8080/",
          "height": 35
        },
        "outputId": "90c93fd7-818b-4f63-badd-24f4b078d474"
      },
      "source": [
        "echo=input('입력= ')\n",
        "while echo!='exit':\n",
        "  echo=input('입력= ')\n",
        "  print('입력값 :',echo)"
      ],
      "execution_count": 111,
      "outputs": [
        {
          "output_type": "stream",
          "text": [
            "입력= exit\n"
          ],
          "name": "stdout"
        }
      ]
    },
    {
      "cell_type": "code",
      "metadata": {
        "id": "nVXgLqk0Iypr",
        "colab_type": "code",
        "colab": {
          "base_uri": "https://localhost:8080/",
          "height": 54
        },
        "outputId": "f8a375c7-f848-4169-ad1a-0437bddf09e2"
      },
      "source": [
        "id=input('id 입력= ')\n",
        "if id=='insungsan':\n",
        "  print('회원입니다.')\n",
        "else:\n",
        "  print('회원가입')"
      ],
      "execution_count": 115,
      "outputs": [
        {
          "output_type": "stream",
          "text": [
            "id 입력= insungsan\n",
            "회원입니다.\n"
          ],
          "name": "stdout"
        }
      ]
    }
  ]
}